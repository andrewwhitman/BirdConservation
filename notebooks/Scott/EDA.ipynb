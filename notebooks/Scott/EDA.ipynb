{
 "cells": [
  {
   "cell_type": "code",
   "execution_count": 1,
   "metadata": {},
   "outputs": [],
   "source": [
    "import pandas as pd\n",
    "import seaborn as sns\n",
    "import matplotlib.pyplot as plt\n",
    "import numpy as np\n",
    "from sklearn.model_selection import train_test_split\n",
    "from sklearn.preprocessing import StandardScaler\n",
    "from sklearn.linear_model import LogisticRegression\n",
    "from sklearn.metrics import plot_confusion_matrix\n",
    "from sklearn.model_selection import cross_val_score\n",
    "from sklearn.metrics import accuracy_score\n",
    "from sklearn.metrics import precision_score\n",
    "from sklearn.metrics import recall_score\n",
    "from sklearn.metrics import f1_score\n",
    "from sklearn.metrics import roc_auc_score, roc_curve, auc\n",
    "from imblearn.over_sampling import SMOTE\n",
    "\n",
    "%matplotlib inline"
   ]
  },
  {
   "cell_type": "code",
   "execution_count": 2,
   "metadata": {},
   "outputs": [
    {
     "name": "stdout",
     "output_type": "stream",
     "text": [
      "bird_dataset.csv   breeding_range.csv\r\n"
     ]
    }
   ],
   "source": [
    "!ls ../../Data"
   ]
  },
  {
   "cell_type": "code",
   "execution_count": 3,
   "metadata": {},
   "outputs": [
    {
     "name": "stderr",
     "output_type": "stream",
     "text": [
      "/Applications/anaconda3/envs/learn-env/lib/python3.8/site-packages/IPython/core/interactiveshell.py:3145: DtypeWarning: Columns (40) have mixed types.Specify dtype option on import or set low_memory=False.\n",
      "  has_raised = await self.run_ast_nodes(code_ast.body, cell_name,\n"
     ]
    }
   ],
   "source": [
    "df1 = pd.read_csv('../../Data/bird_dataset.csv', index_col=0)\n",
    "df2 = pd.read_csv('../../Data/breeding_range.csv', index_col=0)"
   ]
  },
  {
   "cell_type": "code",
   "execution_count": 4,
   "metadata": {},
   "outputs": [
    {
     "data": {
      "text/html": [
       "<div>\n",
       "<style scoped>\n",
       "    .dataframe tbody tr th:only-of-type {\n",
       "        vertical-align: middle;\n",
       "    }\n",
       "\n",
       "    .dataframe tbody tr th {\n",
       "        vertical-align: top;\n",
       "    }\n",
       "\n",
       "    .dataframe thead th {\n",
       "        text-align: right;\n",
       "    }\n",
       "</style>\n",
       "<table border=\"1\" class=\"dataframe\">\n",
       "  <thead>\n",
       "    <tr style=\"text-align: right;\">\n",
       "      <th></th>\n",
       "      <th>SpecID</th>\n",
       "      <th>PassNonPass</th>\n",
       "      <th>IOCOrder</th>\n",
       "      <th>BLFamilyLatin</th>\n",
       "      <th>BLFamilyEnglish</th>\n",
       "      <th>BLFamSequID</th>\n",
       "      <th>Taxo</th>\n",
       "      <th>Scientific</th>\n",
       "      <th>English</th>\n",
       "      <th>Diet-Inv</th>\n",
       "      <th>...</th>\n",
       "      <th>grassland</th>\n",
       "      <th>introduced_vegetation</th>\n",
       "      <th>marine_coastal_supratidal</th>\n",
       "      <th>marine_intertidal</th>\n",
       "      <th>marine_neritic</th>\n",
       "      <th>marine_oceanic</th>\n",
       "      <th>rocky_areas</th>\n",
       "      <th>savanna</th>\n",
       "      <th>shrubland</th>\n",
       "      <th>wetlands_inland</th>\n",
       "    </tr>\n",
       "  </thead>\n",
       "  <tbody>\n",
       "    <tr>\n",
       "      <th>1</th>\n",
       "      <td>37.0</td>\n",
       "      <td>Nonpasseriformes</td>\n",
       "      <td>Rheiformes</td>\n",
       "      <td>Rheidae</td>\n",
       "      <td>Rheas</td>\n",
       "      <td>3.0</td>\n",
       "      <td>BL3</td>\n",
       "      <td>Rhea americana</td>\n",
       "      <td>Greater Rhea</td>\n",
       "      <td>20.0</td>\n",
       "      <td>...</td>\n",
       "      <td>1.0</td>\n",
       "      <td>0.0</td>\n",
       "      <td>0.0</td>\n",
       "      <td>0.0</td>\n",
       "      <td>0.0</td>\n",
       "      <td>0.0</td>\n",
       "      <td>0.0</td>\n",
       "      <td>1.0</td>\n",
       "      <td>1.0</td>\n",
       "      <td>0.0</td>\n",
       "    </tr>\n",
       "    <tr>\n",
       "      <th>2</th>\n",
       "      <td>38.0</td>\n",
       "      <td>Nonpasseriformes</td>\n",
       "      <td>Rheiformes</td>\n",
       "      <td>Rheidae</td>\n",
       "      <td>Rheas</td>\n",
       "      <td>3.0</td>\n",
       "      <td>BL3</td>\n",
       "      <td>Rhea pennata</td>\n",
       "      <td>Lesser Rhea</td>\n",
       "      <td>20.0</td>\n",
       "      <td>...</td>\n",
       "      <td>0.0</td>\n",
       "      <td>0.0</td>\n",
       "      <td>0.0</td>\n",
       "      <td>0.0</td>\n",
       "      <td>0.0</td>\n",
       "      <td>0.0</td>\n",
       "      <td>0.0</td>\n",
       "      <td>0.0</td>\n",
       "      <td>0.0</td>\n",
       "      <td>0.0</td>\n",
       "    </tr>\n",
       "    <tr>\n",
       "      <th>3</th>\n",
       "      <td>45.0</td>\n",
       "      <td>Nonpasseriformes</td>\n",
       "      <td>Casuariiformes</td>\n",
       "      <td>Casuariidae</td>\n",
       "      <td>Cassowaries</td>\n",
       "      <td>4.0</td>\n",
       "      <td>BL3</td>\n",
       "      <td>Casuarius casuarius</td>\n",
       "      <td>Southern Cassowary</td>\n",
       "      <td>10.0</td>\n",
       "      <td>...</td>\n",
       "      <td>0.0</td>\n",
       "      <td>0.0</td>\n",
       "      <td>0.0</td>\n",
       "      <td>0.0</td>\n",
       "      <td>0.0</td>\n",
       "      <td>0.0</td>\n",
       "      <td>0.0</td>\n",
       "      <td>0.0</td>\n",
       "      <td>0.0</td>\n",
       "      <td>0.0</td>\n",
       "    </tr>\n",
       "    <tr>\n",
       "      <th>4</th>\n",
       "      <td>46.0</td>\n",
       "      <td>Nonpasseriformes</td>\n",
       "      <td>Casuariiformes</td>\n",
       "      <td>Casuariidae</td>\n",
       "      <td>Cassowaries</td>\n",
       "      <td>4.0</td>\n",
       "      <td>BL3</td>\n",
       "      <td>Casuarius bennetti</td>\n",
       "      <td>Dwarf Cassowary</td>\n",
       "      <td>10.0</td>\n",
       "      <td>...</td>\n",
       "      <td>1.0</td>\n",
       "      <td>0.0</td>\n",
       "      <td>0.0</td>\n",
       "      <td>0.0</td>\n",
       "      <td>0.0</td>\n",
       "      <td>0.0</td>\n",
       "      <td>0.0</td>\n",
       "      <td>1.0</td>\n",
       "      <td>1.0</td>\n",
       "      <td>0.0</td>\n",
       "    </tr>\n",
       "    <tr>\n",
       "      <th>5</th>\n",
       "      <td>47.0</td>\n",
       "      <td>Nonpasseriformes</td>\n",
       "      <td>Casuariiformes</td>\n",
       "      <td>Casuariidae</td>\n",
       "      <td>Cassowaries</td>\n",
       "      <td>4.0</td>\n",
       "      <td>BL3</td>\n",
       "      <td>Casuarius unappendiculatus</td>\n",
       "      <td>Northern Cassowary</td>\n",
       "      <td>20.0</td>\n",
       "      <td>...</td>\n",
       "      <td>1.0</td>\n",
       "      <td>0.0</td>\n",
       "      <td>0.0</td>\n",
       "      <td>0.0</td>\n",
       "      <td>0.0</td>\n",
       "      <td>0.0</td>\n",
       "      <td>0.0</td>\n",
       "      <td>1.0</td>\n",
       "      <td>1.0</td>\n",
       "      <td>0.0</td>\n",
       "    </tr>\n",
       "  </tbody>\n",
       "</table>\n",
       "<p>5 rows × 85 columns</p>\n",
       "</div>"
      ],
      "text/plain": [
       "   SpecID       PassNonPass        IOCOrder BLFamilyLatin BLFamilyEnglish  \\\n",
       "1    37.0  Nonpasseriformes      Rheiformes       Rheidae           Rheas   \n",
       "2    38.0  Nonpasseriformes      Rheiformes       Rheidae           Rheas   \n",
       "3    45.0  Nonpasseriformes  Casuariiformes   Casuariidae     Cassowaries   \n",
       "4    46.0  Nonpasseriformes  Casuariiformes   Casuariidae     Cassowaries   \n",
       "5    47.0  Nonpasseriformes  Casuariiformes   Casuariidae     Cassowaries   \n",
       "\n",
       "   BLFamSequID Taxo                  Scientific             English  Diet-Inv  \\\n",
       "1          3.0  BL3              Rhea americana        Greater Rhea      20.0   \n",
       "2          3.0  BL3                Rhea pennata         Lesser Rhea      20.0   \n",
       "3          4.0  BL3         Casuarius casuarius  Southern Cassowary      10.0   \n",
       "4          4.0  BL3          Casuarius bennetti     Dwarf Cassowary      10.0   \n",
       "5          4.0  BL3  Casuarius unappendiculatus  Northern Cassowary      20.0   \n",
       "\n",
       "   ...  grassland  introduced_vegetation  marine_coastal_supratidal  \\\n",
       "1  ...        1.0                    0.0                        0.0   \n",
       "2  ...        0.0                    0.0                        0.0   \n",
       "3  ...        0.0                    0.0                        0.0   \n",
       "4  ...        1.0                    0.0                        0.0   \n",
       "5  ...        1.0                    0.0                        0.0   \n",
       "\n",
       "   marine_intertidal  marine_neritic  marine_oceanic  rocky_areas  savanna  \\\n",
       "1                0.0             0.0             0.0          0.0      1.0   \n",
       "2                0.0             0.0             0.0          0.0      0.0   \n",
       "3                0.0             0.0             0.0          0.0      0.0   \n",
       "4                0.0             0.0             0.0          0.0      1.0   \n",
       "5                0.0             0.0             0.0          0.0      1.0   \n",
       "\n",
       "   shrubland wetlands_inland  \n",
       "1        1.0             0.0  \n",
       "2        0.0             0.0  \n",
       "3        0.0             0.0  \n",
       "4        1.0             0.0  \n",
       "5        1.0             0.0  \n",
       "\n",
       "[5 rows x 85 columns]"
      ]
     },
     "execution_count": 4,
     "metadata": {},
     "output_type": "execute_result"
    }
   ],
   "source": [
    "df1.head()"
   ]
  },
  {
   "cell_type": "code",
   "execution_count": 5,
   "metadata": {
    "scrolled": false
   },
   "outputs": [
    {
     "name": "stdout",
     "output_type": "stream",
     "text": [
      "<class 'pandas.core.frame.DataFrame'>\n",
      "Int64Index: 9597 entries, 1 to 9985\n",
      "Data columns (total 85 columns):\n",
      " #   Column                         Non-Null Count  Dtype  \n",
      "---  ------                         --------------  -----  \n",
      " 0   SpecID                         9597 non-null   float64\n",
      " 1   PassNonPass                    9597 non-null   object \n",
      " 2   IOCOrder                       9597 non-null   object \n",
      " 3   BLFamilyLatin                  9597 non-null   object \n",
      " 4   BLFamilyEnglish                9597 non-null   object \n",
      " 5   BLFamSequID                    9597 non-null   float64\n",
      " 6   Taxo                           9597 non-null   object \n",
      " 7   Scientific                     9597 non-null   object \n",
      " 8   English                        9597 non-null   object \n",
      " 9   Diet-Inv                       9597 non-null   float64\n",
      " 10  Diet-Vend                      9597 non-null   float64\n",
      " 11  Diet-Vect                      9597 non-null   float64\n",
      " 12  Diet-Vfish                     9597 non-null   float64\n",
      " 13  Diet-Vunk                      9597 non-null   float64\n",
      " 14  Diet-Scav                      9597 non-null   float64\n",
      " 15  Diet-Fruit                     9597 non-null   float64\n",
      " 16  Diet-Nect                      9597 non-null   float64\n",
      " 17  Diet-Seed                      9597 non-null   float64\n",
      " 18  Diet-PlantO                    9597 non-null   float64\n",
      " 19  Diet-5Cat                      9597 non-null   object \n",
      " 20  Diet-Source                    9597 non-null   object \n",
      " 21  Diet-Certainty                 9597 non-null   object \n",
      " 22  Diet-EnteredBy                 9325 non-null   object \n",
      " 23  ForStrat-watbelowsurf          9597 non-null   float64\n",
      " 24  ForStrat-wataroundsurf         9597 non-null   float64\n",
      " 25  ForStrat-ground                9597 non-null   float64\n",
      " 26  ForStrat-understory            9597 non-null   float64\n",
      " 27  ForStrat-midhigh               9597 non-null   float64\n",
      " 28  ForStrat-canopy                9597 non-null   float64\n",
      " 29  ForStrat-aerial                9597 non-null   float64\n",
      " 30  PelagicSpecialist              9597 non-null   float64\n",
      " 31  ForStrat-Source                9597 non-null   object \n",
      " 32  ForStrat-SpecLevel             9597 non-null   float64\n",
      " 33  ForStrat-EnteredBy             9597 non-null   object \n",
      " 34  Nocturnal                      9597 non-null   float64\n",
      " 35  BodyMass-Value                 9597 non-null   float64\n",
      " 36  BodyMass-Source                9597 non-null   object \n",
      " 37  BodyMass-SpecLevel             9597 non-null   float64\n",
      " 38  BodyMass-Comment               330 non-null    object \n",
      " 39  Record-Comment                 225 non-null    object \n",
      " 40  Unnamed: 0.1                   9597 non-null   float64\n",
      " 41  English name                   9597 non-null   object \n",
      " 42  Family                         9597 non-null   object \n",
      " 43  Global IUCN Red List Category  9597 non-null   object \n",
      " 44  endemic_breeding               9597 non-null   float64\n",
      " 45  migratory                      9597 non-null   float64\n",
      " 46  africa                         9597 non-null   float64\n",
      " 47  antarctica                     9597 non-null   float64\n",
      " 48  asia                           9597 non-null   float64\n",
      " 49  australasia                    9597 non-null   float64\n",
      " 50  caribbean                      9597 non-null   float64\n",
      " 51  central_amer                   9597 non-null   float64\n",
      " 52  central_asia                   9597 non-null   float64\n",
      " 53  europe                         9597 non-null   float64\n",
      " 54  high_seas                      9597 non-null   float64\n",
      " 55  mid_east                       9597 non-null   float64\n",
      " 56  north_amer                     9597 non-null   float64\n",
      " 57  oceania                        9597 non-null   float64\n",
      " 58  south_amer                     9597 non-null   float64\n",
      " 59  agriculture_threat             9597 non-null   float64\n",
      " 60  biological_threat              9597 non-null   float64\n",
      " 61  climate_change_threat          9597 non-null   float64\n",
      " 62  energy_mining_threat           9597 non-null   float64\n",
      " 63  geological_threat              9597 non-null   float64\n",
      " 64  human_intrusions_threat        9597 non-null   float64\n",
      " 65  natural_systems_threat         9597 non-null   float64\n",
      " 66  pollution_threat               9597 non-null   float64\n",
      " 67  res_comm_dev_threat            9597 non-null   float64\n",
      " 68  transportation_threat          9597 non-null   float64\n",
      " 69  invasive_threat                9597 non-null   float64\n",
      " 70  artificial_aquatic             9597 non-null   float64\n",
      " 71  artificial_terrestrial         9597 non-null   float64\n",
      " 72  caves_subterranean             9597 non-null   float64\n",
      " 73  desert                         9597 non-null   float64\n",
      " 74  forest                         9597 non-null   float64\n",
      " 75  grassland                      9597 non-null   float64\n",
      " 76  introduced_vegetation          9597 non-null   float64\n",
      " 77  marine_coastal_supratidal      9597 non-null   float64\n",
      " 78  marine_intertidal              9597 non-null   float64\n",
      " 79  marine_neritic                 9597 non-null   float64\n",
      " 80  marine_oceanic                 9597 non-null   float64\n",
      " 81  rocky_areas                    9597 non-null   float64\n",
      " 82  savanna                        9597 non-null   float64\n",
      " 83  shrubland                      9597 non-null   float64\n",
      " 84  wetlands_inland                9597 non-null   float64\n",
      "dtypes: float64(66), object(19)\n",
      "memory usage: 6.3+ MB\n"
     ]
    }
   ],
   "source": [
    "df1.info()"
   ]
  },
  {
   "cell_type": "code",
   "execution_count": 6,
   "metadata": {},
   "outputs": [],
   "source": [
    "data1 = [df1['africa'], df1['antarctica'], df1['asia'], df1['australasia'], df1['caribbean'], df1['central_amer'],\n",
    "       df1['central_asia'], df1['europe'], df1['high_seas'], df1['mid_east'], df1['north_amer'], df1['oceania'], \n",
    "       df1['south_amer']]"
   ]
  },
  {
   "cell_type": "code",
   "execution_count": 7,
   "metadata": {},
   "outputs": [],
   "source": [
    "regions = pd.concat(data1, axis=1)"
   ]
  },
  {
   "cell_type": "code",
   "execution_count": 8,
   "metadata": {},
   "outputs": [
    {
     "data": {
      "text/html": [
       "<div>\n",
       "<style scoped>\n",
       "    .dataframe tbody tr th:only-of-type {\n",
       "        vertical-align: middle;\n",
       "    }\n",
       "\n",
       "    .dataframe tbody tr th {\n",
       "        vertical-align: top;\n",
       "    }\n",
       "\n",
       "    .dataframe thead th {\n",
       "        text-align: right;\n",
       "    }\n",
       "</style>\n",
       "<table border=\"1\" class=\"dataframe\">\n",
       "  <thead>\n",
       "    <tr style=\"text-align: right;\">\n",
       "      <th></th>\n",
       "      <th>africa</th>\n",
       "      <th>antarctica</th>\n",
       "      <th>asia</th>\n",
       "      <th>australasia</th>\n",
       "      <th>caribbean</th>\n",
       "      <th>central_amer</th>\n",
       "      <th>central_asia</th>\n",
       "      <th>europe</th>\n",
       "      <th>high_seas</th>\n",
       "      <th>mid_east</th>\n",
       "      <th>north_amer</th>\n",
       "      <th>oceania</th>\n",
       "      <th>south_amer</th>\n",
       "    </tr>\n",
       "  </thead>\n",
       "  <tbody>\n",
       "    <tr>\n",
       "      <th>1</th>\n",
       "      <td>0.0</td>\n",
       "      <td>0.0</td>\n",
       "      <td>0.0</td>\n",
       "      <td>0.0</td>\n",
       "      <td>0.0</td>\n",
       "      <td>0.0</td>\n",
       "      <td>0.0</td>\n",
       "      <td>0.0</td>\n",
       "      <td>0.0</td>\n",
       "      <td>0.0</td>\n",
       "      <td>0.0</td>\n",
       "      <td>0.0</td>\n",
       "      <td>1.0</td>\n",
       "    </tr>\n",
       "    <tr>\n",
       "      <th>2</th>\n",
       "      <td>0.0</td>\n",
       "      <td>0.0</td>\n",
       "      <td>0.0</td>\n",
       "      <td>0.0</td>\n",
       "      <td>0.0</td>\n",
       "      <td>0.0</td>\n",
       "      <td>0.0</td>\n",
       "      <td>0.0</td>\n",
       "      <td>0.0</td>\n",
       "      <td>0.0</td>\n",
       "      <td>0.0</td>\n",
       "      <td>0.0</td>\n",
       "      <td>1.0</td>\n",
       "    </tr>\n",
       "    <tr>\n",
       "      <th>3</th>\n",
       "      <td>0.0</td>\n",
       "      <td>0.0</td>\n",
       "      <td>1.0</td>\n",
       "      <td>1.0</td>\n",
       "      <td>0.0</td>\n",
       "      <td>0.0</td>\n",
       "      <td>0.0</td>\n",
       "      <td>0.0</td>\n",
       "      <td>0.0</td>\n",
       "      <td>0.0</td>\n",
       "      <td>0.0</td>\n",
       "      <td>0.0</td>\n",
       "      <td>0.0</td>\n",
       "    </tr>\n",
       "    <tr>\n",
       "      <th>4</th>\n",
       "      <td>0.0</td>\n",
       "      <td>0.0</td>\n",
       "      <td>1.0</td>\n",
       "      <td>1.0</td>\n",
       "      <td>0.0</td>\n",
       "      <td>0.0</td>\n",
       "      <td>0.0</td>\n",
       "      <td>0.0</td>\n",
       "      <td>0.0</td>\n",
       "      <td>0.0</td>\n",
       "      <td>0.0</td>\n",
       "      <td>0.0</td>\n",
       "      <td>0.0</td>\n",
       "    </tr>\n",
       "    <tr>\n",
       "      <th>5</th>\n",
       "      <td>0.0</td>\n",
       "      <td>0.0</td>\n",
       "      <td>1.0</td>\n",
       "      <td>1.0</td>\n",
       "      <td>0.0</td>\n",
       "      <td>0.0</td>\n",
       "      <td>0.0</td>\n",
       "      <td>0.0</td>\n",
       "      <td>0.0</td>\n",
       "      <td>0.0</td>\n",
       "      <td>0.0</td>\n",
       "      <td>0.0</td>\n",
       "      <td>0.0</td>\n",
       "    </tr>\n",
       "    <tr>\n",
       "      <th>...</th>\n",
       "      <td>...</td>\n",
       "      <td>...</td>\n",
       "      <td>...</td>\n",
       "      <td>...</td>\n",
       "      <td>...</td>\n",
       "      <td>...</td>\n",
       "      <td>...</td>\n",
       "      <td>...</td>\n",
       "      <td>...</td>\n",
       "      <td>...</td>\n",
       "      <td>...</td>\n",
       "      <td>...</td>\n",
       "      <td>...</td>\n",
       "    </tr>\n",
       "    <tr>\n",
       "      <th>9953</th>\n",
       "      <td>0.0</td>\n",
       "      <td>0.0</td>\n",
       "      <td>1.0</td>\n",
       "      <td>0.0</td>\n",
       "      <td>0.0</td>\n",
       "      <td>0.0</td>\n",
       "      <td>0.0</td>\n",
       "      <td>0.0</td>\n",
       "      <td>0.0</td>\n",
       "      <td>0.0</td>\n",
       "      <td>0.0</td>\n",
       "      <td>0.0</td>\n",
       "      <td>0.0</td>\n",
       "    </tr>\n",
       "    <tr>\n",
       "      <th>9973</th>\n",
       "      <td>0.0</td>\n",
       "      <td>0.0</td>\n",
       "      <td>0.0</td>\n",
       "      <td>0.0</td>\n",
       "      <td>0.0</td>\n",
       "      <td>0.0</td>\n",
       "      <td>0.0</td>\n",
       "      <td>0.0</td>\n",
       "      <td>0.0</td>\n",
       "      <td>1.0</td>\n",
       "      <td>0.0</td>\n",
       "      <td>0.0</td>\n",
       "      <td>0.0</td>\n",
       "    </tr>\n",
       "    <tr>\n",
       "      <th>9977</th>\n",
       "      <td>0.0</td>\n",
       "      <td>0.0</td>\n",
       "      <td>0.0</td>\n",
       "      <td>0.0</td>\n",
       "      <td>0.0</td>\n",
       "      <td>0.0</td>\n",
       "      <td>0.0</td>\n",
       "      <td>1.0</td>\n",
       "      <td>0.0</td>\n",
       "      <td>0.0</td>\n",
       "      <td>0.0</td>\n",
       "      <td>0.0</td>\n",
       "      <td>0.0</td>\n",
       "    </tr>\n",
       "    <tr>\n",
       "      <th>9981</th>\n",
       "      <td>1.0</td>\n",
       "      <td>0.0</td>\n",
       "      <td>0.0</td>\n",
       "      <td>0.0</td>\n",
       "      <td>0.0</td>\n",
       "      <td>0.0</td>\n",
       "      <td>0.0</td>\n",
       "      <td>0.0</td>\n",
       "      <td>0.0</td>\n",
       "      <td>0.0</td>\n",
       "      <td>0.0</td>\n",
       "      <td>0.0</td>\n",
       "      <td>0.0</td>\n",
       "    </tr>\n",
       "    <tr>\n",
       "      <th>9985</th>\n",
       "      <td>0.0</td>\n",
       "      <td>0.0</td>\n",
       "      <td>1.0</td>\n",
       "      <td>0.0</td>\n",
       "      <td>0.0</td>\n",
       "      <td>0.0</td>\n",
       "      <td>0.0</td>\n",
       "      <td>0.0</td>\n",
       "      <td>0.0</td>\n",
       "      <td>0.0</td>\n",
       "      <td>0.0</td>\n",
       "      <td>0.0</td>\n",
       "      <td>0.0</td>\n",
       "    </tr>\n",
       "  </tbody>\n",
       "</table>\n",
       "<p>9597 rows × 13 columns</p>\n",
       "</div>"
      ],
      "text/plain": [
       "      africa  antarctica  asia  australasia  caribbean  central_amer  \\\n",
       "1        0.0         0.0   0.0          0.0        0.0           0.0   \n",
       "2        0.0         0.0   0.0          0.0        0.0           0.0   \n",
       "3        0.0         0.0   1.0          1.0        0.0           0.0   \n",
       "4        0.0         0.0   1.0          1.0        0.0           0.0   \n",
       "5        0.0         0.0   1.0          1.0        0.0           0.0   \n",
       "...      ...         ...   ...          ...        ...           ...   \n",
       "9953     0.0         0.0   1.0          0.0        0.0           0.0   \n",
       "9973     0.0         0.0   0.0          0.0        0.0           0.0   \n",
       "9977     0.0         0.0   0.0          0.0        0.0           0.0   \n",
       "9981     1.0         0.0   0.0          0.0        0.0           0.0   \n",
       "9985     0.0         0.0   1.0          0.0        0.0           0.0   \n",
       "\n",
       "      central_asia  europe  high_seas  mid_east  north_amer  oceania  \\\n",
       "1              0.0     0.0        0.0       0.0         0.0      0.0   \n",
       "2              0.0     0.0        0.0       0.0         0.0      0.0   \n",
       "3              0.0     0.0        0.0       0.0         0.0      0.0   \n",
       "4              0.0     0.0        0.0       0.0         0.0      0.0   \n",
       "5              0.0     0.0        0.0       0.0         0.0      0.0   \n",
       "...            ...     ...        ...       ...         ...      ...   \n",
       "9953           0.0     0.0        0.0       0.0         0.0      0.0   \n",
       "9973           0.0     0.0        0.0       1.0         0.0      0.0   \n",
       "9977           0.0     1.0        0.0       0.0         0.0      0.0   \n",
       "9981           0.0     0.0        0.0       0.0         0.0      0.0   \n",
       "9985           0.0     0.0        0.0       0.0         0.0      0.0   \n",
       "\n",
       "      south_amer  \n",
       "1            1.0  \n",
       "2            1.0  \n",
       "3            0.0  \n",
       "4            0.0  \n",
       "5            0.0  \n",
       "...          ...  \n",
       "9953         0.0  \n",
       "9973         0.0  \n",
       "9977         0.0  \n",
       "9981         0.0  \n",
       "9985         0.0  \n",
       "\n",
       "[9597 rows x 13 columns]"
      ]
     },
     "execution_count": 8,
     "metadata": {},
     "output_type": "execute_result"
    }
   ],
   "source": [
    "regions"
   ]
  },
  {
   "cell_type": "code",
   "execution_count": 9,
   "metadata": {},
   "outputs": [],
   "source": [
    "data2 = [df1['agriculture_threat'], df1['biological_threat'], df1['climate_change_threat'], \n",
    "         df1['energy_mining_threat'], df1['geological_threat'], df1['human_intrusions_threat'],\n",
    "       df1['natural_systems_threat'], df1['pollution_threat'], df1['res_comm_dev_threat'], \n",
    "         df1['transportation_threat'], df1['invasive_threat']]"
   ]
  },
  {
   "cell_type": "code",
   "execution_count": 10,
   "metadata": {},
   "outputs": [],
   "source": [
    "threats = pd.concat(data2, axis=1)"
   ]
  },
  {
   "cell_type": "code",
   "execution_count": 11,
   "metadata": {},
   "outputs": [
    {
     "data": {
      "text/html": [
       "<div>\n",
       "<style scoped>\n",
       "    .dataframe tbody tr th:only-of-type {\n",
       "        vertical-align: middle;\n",
       "    }\n",
       "\n",
       "    .dataframe tbody tr th {\n",
       "        vertical-align: top;\n",
       "    }\n",
       "\n",
       "    .dataframe thead th {\n",
       "        text-align: right;\n",
       "    }\n",
       "</style>\n",
       "<table border=\"1\" class=\"dataframe\">\n",
       "  <thead>\n",
       "    <tr style=\"text-align: right;\">\n",
       "      <th></th>\n",
       "      <th>agriculture_threat</th>\n",
       "      <th>biological_threat</th>\n",
       "      <th>climate_change_threat</th>\n",
       "      <th>energy_mining_threat</th>\n",
       "      <th>geological_threat</th>\n",
       "      <th>human_intrusions_threat</th>\n",
       "      <th>natural_systems_threat</th>\n",
       "      <th>pollution_threat</th>\n",
       "      <th>res_comm_dev_threat</th>\n",
       "      <th>transportation_threat</th>\n",
       "      <th>invasive_threat</th>\n",
       "    </tr>\n",
       "  </thead>\n",
       "  <tbody>\n",
       "    <tr>\n",
       "      <th>1</th>\n",
       "      <td>1.0</td>\n",
       "      <td>1.0</td>\n",
       "      <td>0.0</td>\n",
       "      <td>0.0</td>\n",
       "      <td>0.0</td>\n",
       "      <td>0.0</td>\n",
       "      <td>0.0</td>\n",
       "      <td>0.0</td>\n",
       "      <td>0.0</td>\n",
       "      <td>0.0</td>\n",
       "      <td>0.0</td>\n",
       "    </tr>\n",
       "    <tr>\n",
       "      <th>2</th>\n",
       "      <td>1.0</td>\n",
       "      <td>1.0</td>\n",
       "      <td>0.0</td>\n",
       "      <td>0.0</td>\n",
       "      <td>0.0</td>\n",
       "      <td>0.0</td>\n",
       "      <td>0.0</td>\n",
       "      <td>0.0</td>\n",
       "      <td>0.0</td>\n",
       "      <td>0.0</td>\n",
       "      <td>0.0</td>\n",
       "    </tr>\n",
       "    <tr>\n",
       "      <th>3</th>\n",
       "      <td>1.0</td>\n",
       "      <td>1.0</td>\n",
       "      <td>1.0</td>\n",
       "      <td>0.0</td>\n",
       "      <td>0.0</td>\n",
       "      <td>0.0</td>\n",
       "      <td>1.0</td>\n",
       "      <td>0.0</td>\n",
       "      <td>1.0</td>\n",
       "      <td>1.0</td>\n",
       "      <td>1.0</td>\n",
       "    </tr>\n",
       "    <tr>\n",
       "      <th>4</th>\n",
       "      <td>1.0</td>\n",
       "      <td>1.0</td>\n",
       "      <td>0.0</td>\n",
       "      <td>0.0</td>\n",
       "      <td>0.0</td>\n",
       "      <td>0.0</td>\n",
       "      <td>0.0</td>\n",
       "      <td>0.0</td>\n",
       "      <td>0.0</td>\n",
       "      <td>1.0</td>\n",
       "      <td>1.0</td>\n",
       "    </tr>\n",
       "    <tr>\n",
       "      <th>5</th>\n",
       "      <td>1.0</td>\n",
       "      <td>1.0</td>\n",
       "      <td>0.0</td>\n",
       "      <td>0.0</td>\n",
       "      <td>0.0</td>\n",
       "      <td>0.0</td>\n",
       "      <td>0.0</td>\n",
       "      <td>0.0</td>\n",
       "      <td>0.0</td>\n",
       "      <td>0.0</td>\n",
       "      <td>0.0</td>\n",
       "    </tr>\n",
       "    <tr>\n",
       "      <th>...</th>\n",
       "      <td>...</td>\n",
       "      <td>...</td>\n",
       "      <td>...</td>\n",
       "      <td>...</td>\n",
       "      <td>...</td>\n",
       "      <td>...</td>\n",
       "      <td>...</td>\n",
       "      <td>...</td>\n",
       "      <td>...</td>\n",
       "      <td>...</td>\n",
       "      <td>...</td>\n",
       "    </tr>\n",
       "    <tr>\n",
       "      <th>9953</th>\n",
       "      <td>1.0</td>\n",
       "      <td>1.0</td>\n",
       "      <td>0.0</td>\n",
       "      <td>0.0</td>\n",
       "      <td>0.0</td>\n",
       "      <td>0.0</td>\n",
       "      <td>0.0</td>\n",
       "      <td>0.0</td>\n",
       "      <td>0.0</td>\n",
       "      <td>0.0</td>\n",
       "      <td>0.0</td>\n",
       "    </tr>\n",
       "    <tr>\n",
       "      <th>9973</th>\n",
       "      <td>0.0</td>\n",
       "      <td>1.0</td>\n",
       "      <td>1.0</td>\n",
       "      <td>0.0</td>\n",
       "      <td>0.0</td>\n",
       "      <td>0.0</td>\n",
       "      <td>0.0</td>\n",
       "      <td>0.0</td>\n",
       "      <td>0.0</td>\n",
       "      <td>0.0</td>\n",
       "      <td>0.0</td>\n",
       "    </tr>\n",
       "    <tr>\n",
       "      <th>9977</th>\n",
       "      <td>0.0</td>\n",
       "      <td>0.0</td>\n",
       "      <td>0.0</td>\n",
       "      <td>0.0</td>\n",
       "      <td>0.0</td>\n",
       "      <td>0.0</td>\n",
       "      <td>0.0</td>\n",
       "      <td>0.0</td>\n",
       "      <td>0.0</td>\n",
       "      <td>0.0</td>\n",
       "      <td>0.0</td>\n",
       "    </tr>\n",
       "    <tr>\n",
       "      <th>9981</th>\n",
       "      <td>0.0</td>\n",
       "      <td>0.0</td>\n",
       "      <td>0.0</td>\n",
       "      <td>0.0</td>\n",
       "      <td>0.0</td>\n",
       "      <td>0.0</td>\n",
       "      <td>0.0</td>\n",
       "      <td>0.0</td>\n",
       "      <td>0.0</td>\n",
       "      <td>0.0</td>\n",
       "      <td>1.0</td>\n",
       "    </tr>\n",
       "    <tr>\n",
       "      <th>9985</th>\n",
       "      <td>1.0</td>\n",
       "      <td>1.0</td>\n",
       "      <td>0.0</td>\n",
       "      <td>0.0</td>\n",
       "      <td>0.0</td>\n",
       "      <td>1.0</td>\n",
       "      <td>1.0</td>\n",
       "      <td>0.0</td>\n",
       "      <td>0.0</td>\n",
       "      <td>0.0</td>\n",
       "      <td>0.0</td>\n",
       "    </tr>\n",
       "  </tbody>\n",
       "</table>\n",
       "<p>9597 rows × 11 columns</p>\n",
       "</div>"
      ],
      "text/plain": [
       "      agriculture_threat  biological_threat  climate_change_threat  \\\n",
       "1                    1.0                1.0                    0.0   \n",
       "2                    1.0                1.0                    0.0   \n",
       "3                    1.0                1.0                    1.0   \n",
       "4                    1.0                1.0                    0.0   \n",
       "5                    1.0                1.0                    0.0   \n",
       "...                  ...                ...                    ...   \n",
       "9953                 1.0                1.0                    0.0   \n",
       "9973                 0.0                1.0                    1.0   \n",
       "9977                 0.0                0.0                    0.0   \n",
       "9981                 0.0                0.0                    0.0   \n",
       "9985                 1.0                1.0                    0.0   \n",
       "\n",
       "      energy_mining_threat  geological_threat  human_intrusions_threat  \\\n",
       "1                      0.0                0.0                      0.0   \n",
       "2                      0.0                0.0                      0.0   \n",
       "3                      0.0                0.0                      0.0   \n",
       "4                      0.0                0.0                      0.0   \n",
       "5                      0.0                0.0                      0.0   \n",
       "...                    ...                ...                      ...   \n",
       "9953                   0.0                0.0                      0.0   \n",
       "9973                   0.0                0.0                      0.0   \n",
       "9977                   0.0                0.0                      0.0   \n",
       "9981                   0.0                0.0                      0.0   \n",
       "9985                   0.0                0.0                      1.0   \n",
       "\n",
       "      natural_systems_threat  pollution_threat  res_comm_dev_threat  \\\n",
       "1                        0.0               0.0                  0.0   \n",
       "2                        0.0               0.0                  0.0   \n",
       "3                        1.0               0.0                  1.0   \n",
       "4                        0.0               0.0                  0.0   \n",
       "5                        0.0               0.0                  0.0   \n",
       "...                      ...               ...                  ...   \n",
       "9953                     0.0               0.0                  0.0   \n",
       "9973                     0.0               0.0                  0.0   \n",
       "9977                     0.0               0.0                  0.0   \n",
       "9981                     0.0               0.0                  0.0   \n",
       "9985                     1.0               0.0                  0.0   \n",
       "\n",
       "      transportation_threat  invasive_threat  \n",
       "1                       0.0              0.0  \n",
       "2                       0.0              0.0  \n",
       "3                       1.0              1.0  \n",
       "4                       1.0              1.0  \n",
       "5                       0.0              0.0  \n",
       "...                     ...              ...  \n",
       "9953                    0.0              0.0  \n",
       "9973                    0.0              0.0  \n",
       "9977                    0.0              0.0  \n",
       "9981                    0.0              1.0  \n",
       "9985                    0.0              0.0  \n",
       "\n",
       "[9597 rows x 11 columns]"
      ]
     },
     "execution_count": 11,
     "metadata": {},
     "output_type": "execute_result"
    }
   ],
   "source": [
    "threats"
   ]
  },
  {
   "cell_type": "code",
   "execution_count": 12,
   "metadata": {},
   "outputs": [
    {
     "data": {
      "text/plain": [
       "LC        7448\n",
       "NT         859\n",
       "VU         685\n",
       "EN         376\n",
       "CR         167\n",
       "DD          41\n",
       "CR(PE)      11\n",
       "EX           5\n",
       "EW           5\n",
       "Name: Global IUCN Red List Category, dtype: int64"
      ]
     },
     "execution_count": 12,
     "metadata": {},
     "output_type": "execute_result"
    }
   ],
   "source": [
    "df1['Global IUCN Red List Category'].value_counts()\n",
    "# IUCN classifies these categories as \"threatened\"\n",
    "# EX - Extinct\n",
    "# EW - Extinct in the Wild\n",
    "# CR(PE) - Critically Endangered Possibly Extinct\n",
    "# CR - Critically Endangered\n",
    "# EN - Endangered\n",
    "# VU - Vulnerable\n",
    "\n",
    "# IUCN classifies these categories as \"not threatened\"\n",
    "# NT - Near Threatened\n",
    "# LC - Least Concern\n",
    "# DD - Data Deficient"
   ]
  },
  {
   "cell_type": "code",
   "execution_count": 13,
   "metadata": {},
   "outputs": [],
   "source": [
    "df1['threatened'] = [0.0 if x in ['NT', 'LC', 'DD'] else 1.0 for x in df1['Global IUCN Red List Category']]"
   ]
  },
  {
   "cell_type": "code",
   "execution_count": 14,
   "metadata": {},
   "outputs": [
    {
     "data": {
      "text/plain": [
       "0.0    8348\n",
       "1.0    1249\n",
       "Name: threatened, dtype: int64"
      ]
     },
     "execution_count": 14,
     "metadata": {},
     "output_type": "execute_result"
    }
   ],
   "source": [
    "# 0.0 = not threatened (8348)\n",
    "# 1.0 = threatened (1249)\n",
    "df1['threatened'].value_counts()\n",
    "\n",
    "# Definitely imbalanced in favor of \"not threatened\""
   ]
  },
  {
   "cell_type": "code",
   "execution_count": 15,
   "metadata": {},
   "outputs": [],
   "source": [
    "X_train_regions, X_test_regions, y_train_regions, y_test_regions = train_test_split(regions, df1['threatened'], test_size=.25, random_state=42)"
   ]
  },
  {
   "cell_type": "code",
   "execution_count": 16,
   "metadata": {},
   "outputs": [
    {
     "data": {
      "text/plain": [
       "LogisticRegression(class_weight='balanced', random_state=42)"
      ]
     },
     "execution_count": 16,
     "metadata": {},
     "output_type": "execute_result"
    }
   ],
   "source": [
    "# Using class_weight = 'balanced' to help with class imbalance\n",
    "model = LogisticRegression(random_state=42, class_weight='balanced')\n",
    "model.fit(X_train_regions, y_train_regions)"
   ]
  },
  {
   "cell_type": "code",
   "execution_count": 17,
   "metadata": {
    "scrolled": true
   },
   "outputs": [
    {
     "data": {
      "image/png": "[encoded data removed]",
      "text/plain": [
       "<Figure size 432x288 with 2 Axes>"
      ]
     },
     "metadata": {
      "needs_background": "light"
     },
     "output_type": "display_data"
    }
   ],
   "source": [
    "plot_confusion_matrix(model, X_train_regions, y_train_regions);"
   ]
  },
  {
   "cell_type": "code",
   "execution_count": 18,
   "metadata": {},
   "outputs": [
    {
     "data": {
      "image/png": "[encoded data removed]",
      "text/plain": [
       "<Figure size 432x288 with 2 Axes>"
      ]
     },
     "metadata": {
      "needs_background": "light"
     },
     "output_type": "display_data"
    }
   ],
   "source": [
    "plot_confusion_matrix(model, X_test_regions, y_test_regions);"
   ]
  },
  {
   "cell_type": "code",
   "execution_count": 19,
   "metadata": {},
   "outputs": [
    {
     "data": {
      "text/plain": [
       "0.47708333333333336"
      ]
     },
     "execution_count": 19,
     "metadata": {},
     "output_type": "execute_result"
    }
   ],
   "source": [
    "cv_scores = cross_val_score(model, X_train_regions, y_train_regions, cv=5)\n",
    "np.median(cv_scores)"
   ]
  },
  {
   "cell_type": "code",
   "execution_count": 20,
   "metadata": {},
   "outputs": [],
   "source": [
    "region_preds = model.predict(X_test_regions)"
   ]
  },
  {
   "cell_type": "code",
   "execution_count": 21,
   "metadata": {},
   "outputs": [
    {
     "data": {
      "text/plain": [
       "0.48833333333333334"
      ]
     },
     "execution_count": 21,
     "metadata": {},
     "output_type": "execute_result"
    }
   ],
   "source": [
    "\"\"\"\n",
    "acc = (tp + tn) / (tp + tn + fp + fn)\n",
    "acc = (0 + 2052) / (0 + 2052 + 0 + 348)\n",
    "acc = 2052/2400\n",
    "acc = .855\n",
    "\"\"\"\n",
    "accuracy_score(y_test_regions, region_preds)"
   ]
  },
  {
   "cell_type": "code",
   "execution_count": 22,
   "metadata": {},
   "outputs": [
    {
     "data": {
      "text/plain": [
       "0.1866096866096866"
      ]
     },
     "execution_count": 22,
     "metadata": {},
     "output_type": "execute_result"
    }
   ],
   "source": [
    "\"\"\"\n",
    "prec = tp / (tp + fp)\n",
    "prec = 0 / (0 + 0)\n",
    "prec = 0 / 0\n",
    "prec = Error\n",
    "\"\"\"\n",
    "precision_score(y_test_regions, region_preds)"
   ]
  },
  {
   "cell_type": "code",
   "execution_count": 23,
   "metadata": {},
   "outputs": [
    {
     "data": {
      "text/plain": [
       "0.7528735632183908"
      ]
     },
     "execution_count": 23,
     "metadata": {},
     "output_type": "execute_result"
    }
   ],
   "source": [
    "\"\"\"\n",
    "rec = tp / (tp + fn)\n",
    "rec = 0 / (0 + 348)\n",
    "rec = 0 / 348\n",
    "rec = 0\n",
    "\"\"\"\n",
    "recall_score(y_test_regions, region_preds)"
   ]
  },
  {
   "cell_type": "code",
   "execution_count": 24,
   "metadata": {
    "scrolled": true
   },
   "outputs": [
    {
     "data": {
      "text/plain": [
       "0.2990867579908676"
      ]
     },
     "execution_count": 24,
     "metadata": {},
     "output_type": "execute_result"
    }
   ],
   "source": [
    "f1_score(y_test_regions, region_preds)"
   ]
  },
  {
   "cell_type": "code",
   "execution_count": 25,
   "metadata": {},
   "outputs": [
    {
     "name": "stdout",
     "output_type": "stream",
     "text": [
      "AUC Score: 0.637081008715915\n"
     ]
    },
    {
     "data": {
      "image/png": "[encoded data removed]",
      "text/plain": [
       "<Figure size 720x576 with 1 Axes>"
      ]
     },
     "metadata": {},
     "output_type": "display_data"
    }
   ],
   "source": [
    "y_score = model.decision_function(X_test_regions)\n",
    "\n",
    "fpr, tpr, thresholds = roc_curve(y_test_regions, y_score)\n",
    "\n",
    "print(\"AUC Score:\",auc(fpr, tpr))\n",
    "\n",
    "# Seaborn's beautiful styling\n",
    "sns.set_style('darkgrid', {'axes.facecolor': '0.9'})\n",
    "\n",
    "# Plot the ROC curve\n",
    "plt.figure(figsize=(10, 8))\n",
    "lw = 2\n",
    "plt.plot(fpr, tpr, color='darkorange',\n",
    "         lw=lw, label='ROC curve')\n",
    "plt.plot([0, 1], [0, 1], color='navy', lw=lw, linestyle='--')\n",
    "plt.xlim([0.0, 1.0])\n",
    "plt.ylim([0.0, 1.05])\n",
    "plt.yticks([i/20.0 for i in range(21)])\n",
    "plt.xticks([i/20.0 for i in range(21)])\n",
    "plt.xlabel('False Positive Rate')\n",
    "plt.ylabel('True Positive Rate')\n",
    "plt.title('Receiver operating characteristic (ROC) Curve')\n",
    "plt.legend(loc='lower right')\n",
    "plt.show();"
   ]
  },
  {
   "cell_type": "code",
   "execution_count": 26,
   "metadata": {},
   "outputs": [],
   "source": [
    "X_train_threats, X_test_threats, y_train_threats, y_test_threats = train_test_split(threats, df1['threatened'], test_size=.25, random_state=42)"
   ]
  },
  {
   "cell_type": "code",
   "execution_count": 27,
   "metadata": {},
   "outputs": [
    {
     "data": {
      "text/plain": [
       "LogisticRegression(class_weight='balanced', random_state=42)"
      ]
     },
     "execution_count": 27,
     "metadata": {},
     "output_type": "execute_result"
    }
   ],
   "source": [
    "model2 = LogisticRegression(random_state=42, class_weight='balanced')\n",
    "model2.fit(X_train_threats, y_train_threats)"
   ]
  },
  {
   "cell_type": "code",
   "execution_count": 28,
   "metadata": {},
   "outputs": [
    {
     "data": {
      "image/png": "[encoded data removed]",
      "text/plain": [
       "<Figure size 432x288 with 2 Axes>"
      ]
     },
     "metadata": {},
     "output_type": "display_data"
    }
   ],
   "source": [
    "plot_confusion_matrix(model2, X_train_threats, y_train_threats);"
   ]
  },
  {
   "cell_type": "code",
   "execution_count": 29,
   "metadata": {},
   "outputs": [
    {
     "data": {
      "image/png": "[encoded data removed]",
      "text/plain": [
       "<Figure size 432x288 with 2 Axes>"
      ]
     },
     "metadata": {},
     "output_type": "display_data"
    }
   ],
   "source": [
    "plot_confusion_matrix(model2, X_test_threats, y_test_threats);"
   ]
  },
  {
   "cell_type": "code",
   "execution_count": 30,
   "metadata": {},
   "outputs": [
    {
     "data": {
      "text/plain": [
       "0.8819444444444444"
      ]
     },
     "execution_count": 30,
     "metadata": {},
     "output_type": "execute_result"
    }
   ],
   "source": [
    "cv_scores = cross_val_score(model2, X_train_threats, y_train_threats, cv=5)\n",
    "np.median(cv_scores)"
   ]
  },
  {
   "cell_type": "code",
   "execution_count": 31,
   "metadata": {},
   "outputs": [],
   "source": [
    "threat_preds = model2.predict(X_test_threats)"
   ]
  },
  {
   "cell_type": "code",
   "execution_count": 32,
   "metadata": {},
   "outputs": [
    {
     "data": {
      "text/plain": [
       "0.885"
      ]
     },
     "execution_count": 32,
     "metadata": {},
     "output_type": "execute_result"
    }
   ],
   "source": [
    "accuracy_score(y_test_threats, threat_preds)"
   ]
  },
  {
   "cell_type": "code",
   "execution_count": 33,
   "metadata": {},
   "outputs": [
    {
     "data": {
      "text/plain": [
       "0.5645161290322581"
      ]
     },
     "execution_count": 33,
     "metadata": {},
     "output_type": "execute_result"
    }
   ],
   "source": [
    "precision_score(y_test_threats, threat_preds)"
   ]
  },
  {
   "cell_type": "code",
   "execution_count": 34,
   "metadata": {},
   "outputs": [
    {
     "data": {
      "text/plain": [
       "0.9051724137931034"
      ]
     },
     "execution_count": 34,
     "metadata": {},
     "output_type": "execute_result"
    }
   ],
   "source": [
    "recall_score(y_test_threats, threat_preds)"
   ]
  },
  {
   "cell_type": "code",
   "execution_count": 35,
   "metadata": {},
   "outputs": [
    {
     "data": {
      "text/plain": [
       "0.695364238410596"
      ]
     },
     "execution_count": 35,
     "metadata": {},
     "output_type": "execute_result"
    }
   ],
   "source": [
    "f1_score(y_test_threats, threat_preds)"
   ]
  },
  {
   "cell_type": "code",
   "execution_count": 36,
   "metadata": {},
   "outputs": [
    {
     "name": "stdout",
     "output_type": "stream",
     "text": [
      "AUC Score: 0.9449093679281216\n"
     ]
    },
    {
     "data": {
      "image/png": "[encoded data removed]",
      "text/plain": [
       "<Figure size 720x576 with 1 Axes>"
      ]
     },
     "metadata": {},
     "output_type": "display_data"
    }
   ],
   "source": [
    "y_score = model2.decision_function(X_test_threats)\n",
    "\n",
    "fpr, tpr, thresholds = roc_curve(y_test_threats, y_score)\n",
    "\n",
    "print(\"AUC Score:\",auc(fpr, tpr))\n",
    "\n",
    "# Seaborn's beautiful styling\n",
    "sns.set_style('darkgrid', {'axes.facecolor': '0.9'})\n",
    "\n",
    "# Plot the ROC curve\n",
    "plt.figure(figsize=(10, 8))\n",
    "lw = 2\n",
    "plt.plot(fpr, tpr, color='darkorange',\n",
    "         lw=lw, label='ROC curve')\n",
    "plt.plot([0, 1], [0, 1], color='navy', lw=lw, linestyle='--')\n",
    "plt.xlim([0.0, 1.0])\n",
    "plt.ylim([0.0, 1.05])\n",
    "plt.yticks([i/20.0 for i in range(21)])\n",
    "plt.xticks([i/20.0 for i in range(21)])\n",
    "plt.xlabel('False Positive Rate')\n",
    "plt.ylabel('True Positive Rate')\n",
    "plt.title('Receiver operating characteristic (ROC) Curve')\n",
    "plt.legend(loc='lower right')\n",
    "plt.show();"
   ]
  },
  {
   "cell_type": "code",
   "execution_count": 37,
   "metadata": {},
   "outputs": [],
   "source": [
    "data3 = [df1['Diet-Inv'], df1['Diet-Vend'], df1['Diet-Vect'], df1['Diet-Vfish'], df1['Diet-Vunk'], \n",
    "         df1['Diet-Scav'], df1['Diet-Fruit'], df1['Diet-Nect'], df1['Diet-Seed'], df1['Diet-PlantO']]"
   ]
  },
  {
   "cell_type": "code",
   "execution_count": 38,
   "metadata": {},
   "outputs": [],
   "source": [
    "diets = pd.concat(data3, axis=1)"
   ]
  },
  {
   "cell_type": "code",
   "execution_count": 39,
   "metadata": {},
   "outputs": [
    {
     "data": {
      "text/html": [
       "<div>\n",
       "<style scoped>\n",
       "    .dataframe tbody tr th:only-of-type {\n",
       "        vertical-align: middle;\n",
       "    }\n",
       "\n",
       "    .dataframe tbody tr th {\n",
       "        vertical-align: top;\n",
       "    }\n",
       "\n",
       "    .dataframe thead th {\n",
       "        text-align: right;\n",
       "    }\n",
       "</style>\n",
       "<table border=\"1\" class=\"dataframe\">\n",
       "  <thead>\n",
       "    <tr style=\"text-align: right;\">\n",
       "      <th></th>\n",
       "      <th>Diet-Inv</th>\n",
       "      <th>Diet-Vend</th>\n",
       "      <th>Diet-Vect</th>\n",
       "      <th>Diet-Vfish</th>\n",
       "      <th>Diet-Vunk</th>\n",
       "      <th>Diet-Scav</th>\n",
       "      <th>Diet-Fruit</th>\n",
       "      <th>Diet-Nect</th>\n",
       "      <th>Diet-Seed</th>\n",
       "      <th>Diet-PlantO</th>\n",
       "    </tr>\n",
       "  </thead>\n",
       "  <tbody>\n",
       "    <tr>\n",
       "      <th>1</th>\n",
       "      <td>20.0</td>\n",
       "      <td>10.0</td>\n",
       "      <td>10.0</td>\n",
       "      <td>0.0</td>\n",
       "      <td>0.0</td>\n",
       "      <td>0.0</td>\n",
       "      <td>20.0</td>\n",
       "      <td>0.0</td>\n",
       "      <td>20.0</td>\n",
       "      <td>20.0</td>\n",
       "    </tr>\n",
       "    <tr>\n",
       "      <th>2</th>\n",
       "      <td>20.0</td>\n",
       "      <td>0.0</td>\n",
       "      <td>0.0</td>\n",
       "      <td>0.0</td>\n",
       "      <td>10.0</td>\n",
       "      <td>0.0</td>\n",
       "      <td>0.0</td>\n",
       "      <td>0.0</td>\n",
       "      <td>30.0</td>\n",
       "      <td>40.0</td>\n",
       "    </tr>\n",
       "    <tr>\n",
       "      <th>3</th>\n",
       "      <td>10.0</td>\n",
       "      <td>0.0</td>\n",
       "      <td>0.0</td>\n",
       "      <td>0.0</td>\n",
       "      <td>10.0</td>\n",
       "      <td>0.0</td>\n",
       "      <td>80.0</td>\n",
       "      <td>0.0</td>\n",
       "      <td>0.0</td>\n",
       "      <td>0.0</td>\n",
       "    </tr>\n",
       "    <tr>\n",
       "      <th>4</th>\n",
       "      <td>10.0</td>\n",
       "      <td>0.0</td>\n",
       "      <td>0.0</td>\n",
       "      <td>0.0</td>\n",
       "      <td>10.0</td>\n",
       "      <td>0.0</td>\n",
       "      <td>80.0</td>\n",
       "      <td>0.0</td>\n",
       "      <td>0.0</td>\n",
       "      <td>0.0</td>\n",
       "    </tr>\n",
       "    <tr>\n",
       "      <th>5</th>\n",
       "      <td>20.0</td>\n",
       "      <td>0.0</td>\n",
       "      <td>0.0</td>\n",
       "      <td>0.0</td>\n",
       "      <td>10.0</td>\n",
       "      <td>0.0</td>\n",
       "      <td>60.0</td>\n",
       "      <td>0.0</td>\n",
       "      <td>0.0</td>\n",
       "      <td>10.0</td>\n",
       "    </tr>\n",
       "    <tr>\n",
       "      <th>...</th>\n",
       "      <td>...</td>\n",
       "      <td>...</td>\n",
       "      <td>...</td>\n",
       "      <td>...</td>\n",
       "      <td>...</td>\n",
       "      <td>...</td>\n",
       "      <td>...</td>\n",
       "      <td>...</td>\n",
       "      <td>...</td>\n",
       "      <td>...</td>\n",
       "    </tr>\n",
       "    <tr>\n",
       "      <th>9953</th>\n",
       "      <td>90.0</td>\n",
       "      <td>0.0</td>\n",
       "      <td>0.0</td>\n",
       "      <td>0.0</td>\n",
       "      <td>0.0</td>\n",
       "      <td>0.0</td>\n",
       "      <td>10.0</td>\n",
       "      <td>0.0</td>\n",
       "      <td>0.0</td>\n",
       "      <td>0.0</td>\n",
       "    </tr>\n",
       "    <tr>\n",
       "      <th>9973</th>\n",
       "      <td>30.0</td>\n",
       "      <td>0.0</td>\n",
       "      <td>0.0</td>\n",
       "      <td>0.0</td>\n",
       "      <td>0.0</td>\n",
       "      <td>0.0</td>\n",
       "      <td>0.0</td>\n",
       "      <td>0.0</td>\n",
       "      <td>70.0</td>\n",
       "      <td>0.0</td>\n",
       "    </tr>\n",
       "    <tr>\n",
       "      <th>9977</th>\n",
       "      <td>20.0</td>\n",
       "      <td>0.0</td>\n",
       "      <td>0.0</td>\n",
       "      <td>0.0</td>\n",
       "      <td>0.0</td>\n",
       "      <td>0.0</td>\n",
       "      <td>0.0</td>\n",
       "      <td>0.0</td>\n",
       "      <td>40.0</td>\n",
       "      <td>40.0</td>\n",
       "    </tr>\n",
       "    <tr>\n",
       "      <th>9981</th>\n",
       "      <td>40.0</td>\n",
       "      <td>0.0</td>\n",
       "      <td>0.0</td>\n",
       "      <td>0.0</td>\n",
       "      <td>0.0</td>\n",
       "      <td>0.0</td>\n",
       "      <td>20.0</td>\n",
       "      <td>0.0</td>\n",
       "      <td>30.0</td>\n",
       "      <td>10.0</td>\n",
       "    </tr>\n",
       "    <tr>\n",
       "      <th>9985</th>\n",
       "      <td>100.0</td>\n",
       "      <td>0.0</td>\n",
       "      <td>0.0</td>\n",
       "      <td>0.0</td>\n",
       "      <td>0.0</td>\n",
       "      <td>0.0</td>\n",
       "      <td>0.0</td>\n",
       "      <td>0.0</td>\n",
       "      <td>0.0</td>\n",
       "      <td>0.0</td>\n",
       "    </tr>\n",
       "  </tbody>\n",
       "</table>\n",
       "<p>9597 rows × 10 columns</p>\n",
       "</div>"
      ],
      "text/plain": [
       "      Diet-Inv  Diet-Vend  Diet-Vect  Diet-Vfish  Diet-Vunk  Diet-Scav  \\\n",
       "1         20.0       10.0       10.0         0.0        0.0        0.0   \n",
       "2         20.0        0.0        0.0         0.0       10.0        0.0   \n",
       "3         10.0        0.0        0.0         0.0       10.0        0.0   \n",
       "4         10.0        0.0        0.0         0.0       10.0        0.0   \n",
       "5         20.0        0.0        0.0         0.0       10.0        0.0   \n",
       "...        ...        ...        ...         ...        ...        ...   \n",
       "9953      90.0        0.0        0.0         0.0        0.0        0.0   \n",
       "9973      30.0        0.0        0.0         0.0        0.0        0.0   \n",
       "9977      20.0        0.0        0.0         0.0        0.0        0.0   \n",
       "9981      40.0        0.0        0.0         0.0        0.0        0.0   \n",
       "9985     100.0        0.0        0.0         0.0        0.0        0.0   \n",
       "\n",
       "      Diet-Fruit  Diet-Nect  Diet-Seed  Diet-PlantO  \n",
       "1           20.0        0.0       20.0         20.0  \n",
       "2            0.0        0.0       30.0         40.0  \n",
       "3           80.0        0.0        0.0          0.0  \n",
       "4           80.0        0.0        0.0          0.0  \n",
       "5           60.0        0.0        0.0         10.0  \n",
       "...          ...        ...        ...          ...  \n",
       "9953        10.0        0.0        0.0          0.0  \n",
       "9973         0.0        0.0       70.0          0.0  \n",
       "9977         0.0        0.0       40.0         40.0  \n",
       "9981        20.0        0.0       30.0         10.0  \n",
       "9985         0.0        0.0        0.0          0.0  \n",
       "\n",
       "[9597 rows x 10 columns]"
      ]
     },
     "execution_count": 39,
     "metadata": {},
     "output_type": "execute_result"
    }
   ],
   "source": [
    "# Time to scale...\n",
    "diets"
   ]
  },
  {
   "cell_type": "code",
   "execution_count": 40,
   "metadata": {},
   "outputs": [],
   "source": [
    "X_train_diets, X_test_diets, y_train_diets, y_test_diets = train_test_split(diets, df1['threatened'], test_size=.25, random_state=42)"
   ]
  },
  {
   "cell_type": "code",
   "execution_count": 41,
   "metadata": {},
   "outputs": [],
   "source": [
    "# Scaling data\n",
    "# Divide by 100\n",
    "# scaler = StandardScaler()\n",
    "X_train_diets_scaled = X_train_diets/100\n",
    "X_test_diets_scaled = X_test_diets/100"
   ]
  },
  {
   "cell_type": "code",
   "execution_count": 42,
   "metadata": {
    "scrolled": true
   },
   "outputs": [
    {
     "data": {
      "image/png": "[encoded data removed]",
      "text/plain": [
       "<Figure size 432x288 with 2 Axes>"
      ]
     },
     "metadata": {},
     "output_type": "display_data"
    }
   ],
   "source": [
    "model3 = LogisticRegression(random_state=42, class_weight='balanced')\n",
    "model3.fit(X_train_diets_scaled, y_train_diets)\n",
    "plot_confusion_matrix(model3, X_train_diets_scaled, y_train_diets);"
   ]
  },
  {
   "cell_type": "code",
   "execution_count": 43,
   "metadata": {},
   "outputs": [
    {
     "data": {
      "image/png": "[encoded data removed]",
      "text/plain": [
       "<Figure size 432x288 with 2 Axes>"
      ]
     },
     "metadata": {},
     "output_type": "display_data"
    }
   ],
   "source": [
    "plot_confusion_matrix(model3, X_test_diets_scaled, y_test_diets);"
   ]
  },
  {
   "cell_type": "code",
   "execution_count": 44,
   "metadata": {},
   "outputs": [
    {
     "data": {
      "text/plain": [
       "0.6486111111111111"
      ]
     },
     "execution_count": 44,
     "metadata": {},
     "output_type": "execute_result"
    }
   ],
   "source": [
    "cv_scores = cross_val_score(model3, X_train_diets_scaled, y_train_diets, cv=5)\n",
    "np.median(cv_scores)"
   ]
  },
  {
   "cell_type": "code",
   "execution_count": 45,
   "metadata": {},
   "outputs": [],
   "source": [
    "diet_preds = model3.predict(X_test_diets_scaled)"
   ]
  },
  {
   "cell_type": "code",
   "execution_count": 46,
   "metadata": {},
   "outputs": [
    {
     "data": {
      "text/plain": [
       "0.6491666666666667"
      ]
     },
     "execution_count": 46,
     "metadata": {},
     "output_type": "execute_result"
    }
   ],
   "source": [
    "accuracy_score(y_test_diets, diet_preds)"
   ]
  },
  {
   "cell_type": "code",
   "execution_count": 47,
   "metadata": {},
   "outputs": [
    {
     "data": {
      "text/plain": [
       "0.1943069306930693"
      ]
     },
     "execution_count": 47,
     "metadata": {},
     "output_type": "execute_result"
    }
   ],
   "source": [
    "precision_score(y_test_diets, diet_preds)"
   ]
  },
  {
   "cell_type": "code",
   "execution_count": 48,
   "metadata": {},
   "outputs": [
    {
     "data": {
      "text/plain": [
       "0.4511494252873563"
      ]
     },
     "execution_count": 48,
     "metadata": {},
     "output_type": "execute_result"
    }
   ],
   "source": [
    "recall_score(y_test_diets, diet_preds)"
   ]
  },
  {
   "cell_type": "code",
   "execution_count": 49,
   "metadata": {},
   "outputs": [
    {
     "data": {
      "text/plain": [
       "0.27162629757785467"
      ]
     },
     "execution_count": 49,
     "metadata": {},
     "output_type": "execute_result"
    }
   ],
   "source": [
    "f1_score(y_test_diets, diet_preds)"
   ]
  },
  {
   "cell_type": "code",
   "execution_count": 50,
   "metadata": {},
   "outputs": [
    {
     "name": "stdout",
     "output_type": "stream",
     "text": [
      "AUC Score: 0.5818636429835764\n"
     ]
    },
    {
     "data": {
      "image/png": "[encoded data removed]",
      "text/plain": [
       "<Figure size 720x576 with 1 Axes>"
      ]
     },
     "metadata": {},
     "output_type": "display_data"
    }
   ],
   "source": [
    "y_score = model3.decision_function(X_test_diets_scaled)\n",
    "\n",
    "fpr, tpr, thresholds = roc_curve(y_test_diets, y_score)\n",
    "\n",
    "print(\"AUC Score:\",auc(fpr, tpr))\n",
    "\n",
    "# Seaborn's beautiful styling\n",
    "sns.set_style('darkgrid', {'axes.facecolor': '0.9'})\n",
    "\n",
    "# Plot the ROC curve\n",
    "plt.figure(figsize=(10, 8))\n",
    "lw = 2\n",
    "plt.plot(fpr, tpr, color='darkorange',\n",
    "         lw=lw, label='ROC curve')\n",
    "plt.plot([0, 1], [0, 1], color='navy', lw=lw, linestyle='--')\n",
    "plt.xlim([0.0, 1.0])\n",
    "plt.ylim([0.0, 1.05])\n",
    "plt.yticks([i/20.0 for i in range(21)])\n",
    "plt.xticks([i/20.0 for i in range(21)])\n",
    "plt.xlabel('False Positive Rate')\n",
    "plt.ylabel('True Positive Rate')\n",
    "plt.title('Receiver operating characteristic (ROC) Curve')\n",
    "plt.legend(loc='lower right')\n",
    "plt.show();"
   ]
  },
  {
   "cell_type": "code",
   "execution_count": 51,
   "metadata": {},
   "outputs": [
    {
     "name": "stdout",
     "output_type": "stream",
     "text": [
      "Original class distribution: \n",
      "\n",
      "0.0    8348\n",
      "1.0    1249\n",
      "Name: threatened, dtype: int64\n",
      "-----------------------------------------\n",
      "Synthetic sample class distribution: \n",
      "\n",
      "1.0    6296\n",
      "0.0    6296\n",
      "Name: threatened, dtype: int64\n"
     ]
    }
   ],
   "source": [
    "# Previous original class distribution\n",
    "print('Original class distribution: \\n')\n",
    "print(df1['threatened'].value_counts())\n",
    "smote = SMOTE()\n",
    "X_train_regions_resampled, y_train_regions_resampled = smote.fit_sample(X_train_regions, y_train_regions) \n",
    "# Preview synthetic sample class distribution\n",
    "print('-----------------------------------------')\n",
    "print('Synthetic sample class distribution: \\n')\n",
    "print(pd.Series(y_train_regions_resampled).value_counts()) "
   ]
  },
  {
   "cell_type": "code",
   "execution_count": 52,
   "metadata": {},
   "outputs": [
    {
     "data": {
      "text/plain": [
       "LogisticRegression(random_state=42)"
      ]
     },
     "execution_count": 52,
     "metadata": {},
     "output_type": "execute_result"
    }
   ],
   "source": [
    "sm_model = LogisticRegression(random_state=42)\n",
    "sm_model.fit(X_train_regions_resampled, y_train_regions_resampled)"
   ]
  },
  {
   "cell_type": "code",
   "execution_count": 53,
   "metadata": {},
   "outputs": [
    {
     "data": {
      "text/plain": [
       "0.6056393963463066"
      ]
     },
     "execution_count": 53,
     "metadata": {},
     "output_type": "execute_result"
    }
   ],
   "source": [
    "cv_scores = cross_val_score(sm_model, X_train_regions_resampled, y_train_regions_resampled, cv=5)\n",
    "np.median(cv_scores)"
   ]
  },
  {
   "cell_type": "code",
   "execution_count": 54,
   "metadata": {
    "scrolled": true
   },
   "outputs": [
    {
     "data": {
      "image/png": "[encoded data removed]",
      "text/plain": [
       "<Figure size 432x288 with 2 Axes>"
      ]
     },
     "metadata": {},
     "output_type": "display_data"
    }
   ],
   "source": [
    "plot_confusion_matrix(sm_model, X_train_regions_resampled, y_train_regions_resampled);"
   ]
  },
  {
   "cell_type": "code",
   "execution_count": 55,
   "metadata": {},
   "outputs": [
    {
     "name": "stdout",
     "output_type": "stream",
     "text": [
      "AUC Score: 0.6374311017006117\n"
     ]
    },
    {
     "data": {
      "image/png": "[encoded data removed]",
      "text/plain": [
       "<Figure size 720x576 with 1 Axes>"
      ]
     },
     "metadata": {},
     "output_type": "display_data"
    }
   ],
   "source": [
    "y_score = sm_model.decision_function(X_test_regions)\n",
    "\n",
    "fpr, tpr, thresholds = roc_curve(y_test_regions, y_score)\n",
    "\n",
    "print(\"AUC Score:\",auc(fpr, tpr))\n",
    "\n",
    "# Seaborn's beautiful styling\n",
    "sns.set_style('darkgrid', {'axes.facecolor': '0.9'})\n",
    "\n",
    "# Plot the ROC curve\n",
    "plt.figure(figsize=(10, 8))\n",
    "lw = 2\n",
    "plt.plot(fpr, tpr, color='darkorange',\n",
    "         lw=lw, label='ROC curve')\n",
    "plt.plot([0, 1], [0, 1], color='navy', lw=lw, linestyle='--')\n",
    "plt.xlim([0.0, 1.0])\n",
    "plt.ylim([0.0, 1.05])\n",
    "plt.yticks([i/20.0 for i in range(21)])\n",
    "plt.xticks([i/20.0 for i in range(21)])\n",
    "plt.xlabel('False Positive Rate')\n",
    "plt.ylabel('True Positive Rate')\n",
    "plt.title('Receiver operating characteristic (ROC) Curve')\n",
    "plt.legend(loc='lower right')\n",
    "plt.show();"
   ]
  },
  {
   "cell_type": "code",
   "execution_count": 56,
   "metadata": {},
   "outputs": [],
   "source": [
    "terrain = df1[df1.columns[70:85]]"
   ]
  },
  {
   "cell_type": "code",
   "execution_count": 57,
   "metadata": {},
   "outputs": [],
   "source": [
    "X_train_terr, X_test_terr, y_train_terr, y_test_terr = train_test_split(terrain, df1['threatened'], test_size=.25, random_state=42)"
   ]
  },
  {
   "cell_type": "code",
   "execution_count": 58,
   "metadata": {},
   "outputs": [
    {
     "data": {
      "image/png": "[encoded data removed]",
      "text/plain": [
       "<Figure size 432x288 with 2 Axes>"
      ]
     },
     "metadata": {},
     "output_type": "display_data"
    }
   ],
   "source": [
    "model4 = LogisticRegression(random_state=42, class_weight='balanced')\n",
    "model4.fit(X_train_terr, y_train_terr)\n",
    "plot_confusion_matrix(model4, X_train_terr, y_train_terr);"
   ]
  },
  {
   "cell_type": "code",
   "execution_count": 59,
   "metadata": {},
   "outputs": [
    {
     "data": {
      "text/plain": [
       "0.5802640722724114"
      ]
     },
     "execution_count": 59,
     "metadata": {},
     "output_type": "execute_result"
    }
   ],
   "source": [
    "cv_scores = cross_val_score(model4, X_train_terr, y_train_terr, cv=5)\n",
    "np.median(cv_scores)"
   ]
  },
  {
   "cell_type": "code",
   "execution_count": 60,
   "metadata": {},
   "outputs": [],
   "source": [
    "terr_preds = model4.predict(X_test_terr)"
   ]
  },
  {
   "cell_type": "code",
   "execution_count": 61,
   "metadata": {},
   "outputs": [
    {
     "data": {
      "text/plain": [
       "0.5758333333333333"
      ]
     },
     "execution_count": 61,
     "metadata": {},
     "output_type": "execute_result"
    }
   ],
   "source": [
    "accuracy_score(y_test_terr, terr_preds)"
   ]
  },
  {
   "cell_type": "code",
   "execution_count": 62,
   "metadata": {},
   "outputs": [
    {
     "data": {
      "text/plain": [
       "0.14736842105263157"
      ]
     },
     "execution_count": 62,
     "metadata": {},
     "output_type": "execute_result"
    }
   ],
   "source": [
    "precision_score(y_test_terr, terr_preds)"
   ]
  },
  {
   "cell_type": "code",
   "execution_count": 63,
   "metadata": {},
   "outputs": [
    {
     "data": {
      "text/plain": [
       "0.40229885057471265"
      ]
     },
     "execution_count": 63,
     "metadata": {},
     "output_type": "execute_result"
    }
   ],
   "source": [
    "recall_score(y_test_terr, terr_preds)"
   ]
  },
  {
   "cell_type": "code",
   "execution_count": 64,
   "metadata": {},
   "outputs": [
    {
     "data": {
      "text/plain": [
       "0.21571648690292758"
      ]
     },
     "execution_count": 64,
     "metadata": {},
     "output_type": "execute_result"
    }
   ],
   "source": [
    "f1_score(y_test_terr, terr_preds)"
   ]
  },
  {
   "cell_type": "code",
   "execution_count": 65,
   "metadata": {},
   "outputs": [
    {
     "name": "stdout",
     "output_type": "stream",
     "text": [
      "AUC Score: 0.4888901492236338\n"
     ]
    },
    {
     "data": {
      "image/png": "[encoded data removed]",
      "text/plain": [
       "<Figure size 720x576 with 1 Axes>"
      ]
     },
     "metadata": {},
     "output_type": "display_data"
    }
   ],
   "source": [
    "y_score = model4.decision_function(X_test_terr)\n",
    "\n",
    "fpr, tpr, thresholds = roc_curve(y_test_terr, y_score)\n",
    "\n",
    "print(\"AUC Score:\",auc(fpr, tpr))\n",
    "\n",
    "# Seaborn's beautiful styling\n",
    "sns.set_style('darkgrid', {'axes.facecolor': '0.9'})\n",
    "\n",
    "# Plot the ROC curve\n",
    "plt.figure(figsize=(10, 8))\n",
    "lw = 2\n",
    "plt.plot(fpr, tpr, color='darkorange',\n",
    "         lw=lw, label='ROC curve')\n",
    "plt.plot([0, 1], [0, 1], color='navy', lw=lw, linestyle='--')\n",
    "plt.xlim([0.0, 1.0])\n",
    "plt.ylim([0.0, 1.05])\n",
    "plt.yticks([i/20.0 for i in range(21)])\n",
    "plt.xticks([i/20.0 for i in range(21)])\n",
    "plt.xlabel('False Positive Rate')\n",
    "plt.ylabel('True Positive Rate')\n",
    "plt.title('Receiver operating characteristic (ROC) Curve')\n",
    "plt.legend(loc='lower right')\n",
    "plt.show();"
   ]
  },
  {
   "cell_type": "code",
   "execution_count": 66,
   "metadata": {},
   "outputs": [
    {
     "name": "stdout",
     "output_type": "stream",
     "text": [
      "Accuracy Score:  0.7304166666666667\n",
      "Precision Score: 0.20040080160320642\n",
      "Recall Score:    0.28735632183908044\n",
      "F1 Score:        0.2361275088547816\n"
     ]
    }
   ],
   "source": [
    "# Regions data KNN\n",
    "from sklearn.neighbors import KNeighborsClassifier\n",
    "clf = KNeighborsClassifier(n_neighbors=1)\n",
    "clf.fit(X_train_regions, y_train_regions)\n",
    "regions_test_preds = clf.predict(X_test_regions)\n",
    "print(\"Accuracy Score: \",accuracy_score(y_test_regions, regions_test_preds))\n",
    "print(\"Precision Score:\",precision_score(y_test_regions, regions_test_preds))\n",
    "print(\"Recall Score:   \",recall_score(y_test_regions, regions_test_preds))\n",
    "print(\"F1 Score:       \",f1_score(y_test_regions, regions_test_preds))"
   ]
  },
  {
   "cell_type": "code",
   "execution_count": 67,
   "metadata": {},
   "outputs": [
    {
     "name": "stdout",
     "output_type": "stream",
     "text": [
      "Accuracy Score:  0.8504166666666667\n",
      "Precision Score: 0.36585365853658536\n",
      "Recall Score:    0.04310344827586207\n",
      "F1 Score:        0.07712082262210797\n"
     ]
    }
   ],
   "source": [
    "# Regions data KNN (w/ SMOTE)\n",
    "clfrs = KNeighborsClassifier(n_neighbors=5)\n",
    "clfrs.fit(X_train_regions_resampled, y_train_regions_resampled)\n",
    "regions_test_predsrs = clfrs.predict(X_test_regions)\n",
    "print(\"Accuracy Score: \",accuracy_score(y_test_regions, regions_test_predsrs))\n",
    "print(\"Precision Score:\",precision_score(y_test_regions, regions_test_predsrs))\n",
    "print(\"Recall Score:   \",recall_score(y_test_regions, regions_test_predsrs))\n",
    "print(\"F1 Score:       \",f1_score(y_test_regions, regions_test_predsrs))"
   ]
  },
  {
   "cell_type": "code",
   "execution_count": 68,
   "metadata": {},
   "outputs": [
    {
     "name": "stdout",
     "output_type": "stream",
     "text": [
      "Accuracy Score:  0.8820833333333333\n",
      "Precision Score: 0.6173285198555957\n",
      "Recall Score:    0.49137931034482757\n",
      "F1 Score:        0.5472\n"
     ]
    }
   ],
   "source": [
    "# Threats data KNN\n",
    "clf2 = KNeighborsClassifier(n_neighbors=5)\n",
    "clf2.fit(X_train_threats, y_train_threats)\n",
    "threats_test_preds = clf2.predict(X_test_threats)\n",
    "print(\"Accuracy Score: \",accuracy_score(y_test_threats, threats_test_preds))\n",
    "print(\"Precision Score:\",precision_score(y_test_threats, threats_test_preds))\n",
    "print(\"Recall Score:   \",recall_score(y_test_threats, threats_test_preds))\n",
    "print(\"F1 Score:       \",f1_score(y_test_threats, threats_test_preds))"
   ]
  },
  {
   "cell_type": "code",
   "execution_count": 69,
   "metadata": {},
   "outputs": [
    {
     "name": "stdout",
     "output_type": "stream",
     "text": [
      "Accuracy Score:  0.7895833333333333\n",
      "Precision Score: 0.21660649819494585\n",
      "Recall Score:    0.1724137931034483\n",
      "F1 Score:        0.19200000000000003\n"
     ]
    }
   ],
   "source": [
    "# Diets data KNN\n",
    "clf3 = KNeighborsClassifier(n_neighbors=1)\n",
    "clf3.fit(X_train_diets_scaled, y_train_diets)\n",
    "diets_test_preds = clf3.predict(X_test_diets_scaled)\n",
    "print(\"Accuracy Score: \",accuracy_score(y_test_diets, diets_test_preds))\n",
    "print(\"Precision Score:\",precision_score(y_test_diets, diets_test_preds))\n",
    "print(\"Recall Score:   \",recall_score(y_test_diets, diets_test_preds))\n",
    "print(\"F1 Score:       \",f1_score(y_test_diets, diets_test_preds))"
   ]
  },
  {
   "cell_type": "code",
   "execution_count": 70,
   "metadata": {},
   "outputs": [
    {
     "name": "stdout",
     "output_type": "stream",
     "text": [
      "Accuracy Score:  0.8125\n",
      "Precision Score: 0.16447368421052633\n",
      "Recall Score:    0.07183908045977011\n",
      "F1 Score:        0.1\n"
     ]
    }
   ],
   "source": [
    "# Terrain data KNN\n",
    "clf4 = KNeighborsClassifier(n_neighbors=1)\n",
    "clf4.fit(X_train_terr, y_train_terr)\n",
    "terr_test_preds = clf4.predict(X_test_terr)\n",
    "print(\"Accuracy Score: \",accuracy_score(y_test_terr, terr_test_preds))\n",
    "print(\"Precision Score:\",precision_score(y_test_terr, terr_test_preds))\n",
    "print(\"Recall Score:   \",recall_score(y_test_terr, terr_test_preds))\n",
    "print(\"F1 Score:       \",f1_score(y_test_terr, terr_test_preds))"
   ]
  },
  {
   "cell_type": "code",
   "execution_count": 71,
   "metadata": {},
   "outputs": [
    {
     "name": "stdout",
     "output_type": "stream",
     "text": [
      "Accuracy Score:  0.85625\n",
      "Precision Score: 0.8\n",
      "Recall Score:    0.011494252873563218\n",
      "F1 Score:        0.022662889518413595\n"
     ]
    }
   ],
   "source": [
    "# Regions data DT\n",
    "from sklearn.tree import DecisionTreeClassifier \n",
    "dt = DecisionTreeClassifier(criterion='entropy', max_depth=3)\n",
    "dt.fit(X_train_regions, y_train_regions)\n",
    "region_preds_dt = dt.predict(X_test_regions)\n",
    "print(\"Accuracy Score: \",accuracy_score(y_test_regions, region_preds_dt))\n",
    "print(\"Precision Score:\",precision_score(y_test_regions, region_preds_dt))\n",
    "print(\"Recall Score:   \",recall_score(y_test_regions, region_preds_dt))\n",
    "print(\"F1 Score:       \",f1_score(y_test_regions, region_preds_dt))"
   ]
  },
  {
   "cell_type": "code",
   "execution_count": 72,
   "metadata": {},
   "outputs": [
    {
     "name": "stdout",
     "output_type": "stream",
     "text": [
      "Accuracy Score:  0.48875\n",
      "Precision Score: 0.18539727988546886\n",
      "Recall Score:    0.7442528735632183\n",
      "F1 Score:        0.2968481375358166\n"
     ]
    }
   ],
   "source": [
    "# Regions data DT (w/SMOTE)\n",
    "dtrs = DecisionTreeClassifier(criterion='entropy')\n",
    "dtrs.fit(X_train_regions_resampled, y_train_regions_resampled)\n",
    "region_preds_dtrs = dtrs.predict(X_test_regions)\n",
    "print(\"Accuracy Score: \",accuracy_score(y_test_regions, region_preds_dtrs))\n",
    "print(\"Precision Score:\",precision_score(y_test_regions, region_preds_dtrs))\n",
    "print(\"Recall Score:   \",recall_score(y_test_regions, region_preds_dtrs))\n",
    "print(\"F1 Score:       \",f1_score(y_test_regions, region_preds_dtrs))"
   ]
  },
  {
   "cell_type": "code",
   "execution_count": 73,
   "metadata": {},
   "outputs": [
    {
     "name": "stdout",
     "output_type": "stream",
     "text": [
      "Accuracy Score:  0.8870833333333333\n",
      "Precision Score: 0.6313993174061433\n",
      "Recall Score:    0.5316091954022989\n",
      "F1 Score:        0.577223088923557\n"
     ]
    }
   ],
   "source": [
    "# Threats data DT\n",
    "dt2 = DecisionTreeClassifier(criterion='entropy', max_depth=5)\n",
    "dt2.fit(X_train_threats, y_train_threats)\n",
    "threat_preds_dt = dt2.predict(X_test_threats)\n",
    "print(\"Accuracy Score: \",accuracy_score(y_test_threats, threat_preds_dt))\n",
    "print(\"Precision Score:\",precision_score(y_test_threats, threat_preds_dt))\n",
    "print(\"Recall Score:   \",recall_score(y_test_threats, threat_preds_dt))\n",
    "print(\"F1 Score:       \",f1_score(y_test_threats, threat_preds_dt))"
   ]
  },
  {
   "cell_type": "code",
   "execution_count": 74,
   "metadata": {},
   "outputs": [
    {
     "name": "stdout",
     "output_type": "stream",
     "text": [
      "Accuracy Score:  0.85625\n",
      "Precision Score: 0.8\n",
      "Recall Score:    0.011494252873563218\n",
      "F1 Score:        0.022662889518413595\n"
     ]
    }
   ],
   "source": [
    "# Diets data DT\n",
    "dt3 = DecisionTreeClassifier(criterion='entropy', max_depth=5)\n",
    "dt3.fit(X_train_diets_scaled, y_train_diets)\n",
    "diet_preds_dt = dt3.predict(X_test_diets_scaled)\n",
    "print(\"Accuracy Score: \",accuracy_score(y_test_diets, diet_preds_dt))\n",
    "print(\"Precision Score:\",precision_score(y_test_diets, diet_preds_dt))\n",
    "print(\"Recall Score:   \",recall_score(y_test_diets, diet_preds_dt))\n",
    "print(\"F1 Score:       \",f1_score(y_test_diets, diet_preds_dt))"
   ]
  },
  {
   "cell_type": "code",
   "execution_count": 75,
   "metadata": {},
   "outputs": [
    {
     "name": "stdout",
     "output_type": "stream",
     "text": [
      "Accuracy Score:  0.855\n",
      "Precision Score: 0.0\n",
      "Recall Score:    0.0\n",
      "F1 Score:        0.0\n"
     ]
    },
    {
     "name": "stderr",
     "output_type": "stream",
     "text": [
      "/Applications/anaconda3/envs/learn-env/lib/python3.8/site-packages/sklearn/metrics/_classification.py:1221: UndefinedMetricWarning: Precision is ill-defined and being set to 0.0 due to no predicted samples. Use `zero_division` parameter to control this behavior.\n",
      "  _warn_prf(average, modifier, msg_start, len(result))\n"
     ]
    }
   ],
   "source": [
    "# Terrain data DT\n",
    "dt4 = DecisionTreeClassifier(criterion='entropy', max_depth=1)\n",
    "dt4.fit(X_train_terr, y_train_terr)\n",
    "terr_preds_dt = dt4.predict(X_test_terr)\n",
    "print(\"Accuracy Score: \",accuracy_score(y_test_terr, terr_preds_dt))\n",
    "print(\"Precision Score:\",precision_score(y_test_terr, terr_preds_dt))\n",
    "print(\"Recall Score:   \",recall_score(y_test_terr, terr_preds_dt))\n",
    "print(\"F1 Score:       \",f1_score(y_test_terr, terr_preds_dt))"
   ]
  },
  {
   "cell_type": "code",
   "execution_count": 76,
   "metadata": {},
   "outputs": [
    {
     "name": "stdout",
     "output_type": "stream",
     "text": [
      "Diet-EnteredBy\n",
      "BodyMass-Comment\n",
      "Record-Comment\n"
     ]
    }
   ],
   "source": [
    "for col in df1:\n",
    "    if df1[col].isna().any():\n",
    "        print(col)"
   ]
  },
  {
   "cell_type": "code",
   "execution_count": 77,
   "metadata": {},
   "outputs": [
    {
     "data": {
      "text/plain": [
       "272"
      ]
     },
     "execution_count": 77,
     "metadata": {},
     "output_type": "execute_result"
    }
   ],
   "source": [
    "df1['Diet-EnteredBy'].isna().sum()"
   ]
  },
  {
   "cell_type": "code",
   "execution_count": 78,
   "metadata": {},
   "outputs": [
    {
     "data": {
      "text/plain": [
       "9267"
      ]
     },
     "execution_count": 78,
     "metadata": {},
     "output_type": "execute_result"
    }
   ],
   "source": [
    "df1['BodyMass-Comment'].isna().sum()"
   ]
  },
  {
   "cell_type": "code",
   "execution_count": 79,
   "metadata": {},
   "outputs": [
    {
     "data": {
      "text/plain": [
       "9372"
      ]
     },
     "execution_count": 79,
     "metadata": {},
     "output_type": "execute_result"
    }
   ],
   "source": [
    "df1['Record-Comment'].isna().sum()"
   ]
  },
  {
   "cell_type": "code",
   "execution_count": 80,
   "metadata": {},
   "outputs": [],
   "source": [
    "df1 = df1.drop(columns=['Diet-EnteredBy', 'BodyMass-Comment', 'Record-Comment'])"
   ]
  },
  {
   "cell_type": "code",
   "execution_count": 81,
   "metadata": {},
   "outputs": [
    {
     "name": "stdout",
     "output_type": "stream",
     "text": [
      "<class 'pandas.core.frame.DataFrame'>\n",
      "Int64Index: 9597 entries, 1 to 9985\n",
      "Data columns (total 83 columns):\n",
      " #   Column                         Non-Null Count  Dtype  \n",
      "---  ------                         --------------  -----  \n",
      " 0   SpecID                         9597 non-null   float64\n",
      " 1   PassNonPass                    9597 non-null   object \n",
      " 2   IOCOrder                       9597 non-null   object \n",
      " 3   BLFamilyLatin                  9597 non-null   object \n",
      " 4   BLFamilyEnglish                9597 non-null   object \n",
      " 5   BLFamSequID                    9597 non-null   float64\n",
      " 6   Taxo                           9597 non-null   object \n",
      " 7   Scientific                     9597 non-null   object \n",
      " 8   English                        9597 non-null   object \n",
      " 9   Diet-Inv                       9597 non-null   float64\n",
      " 10  Diet-Vend                      9597 non-null   float64\n",
      " 11  Diet-Vect                      9597 non-null   float64\n",
      " 12  Diet-Vfish                     9597 non-null   float64\n",
      " 13  Diet-Vunk                      9597 non-null   float64\n",
      " 14  Diet-Scav                      9597 non-null   float64\n",
      " 15  Diet-Fruit                     9597 non-null   float64\n",
      " 16  Diet-Nect                      9597 non-null   float64\n",
      " 17  Diet-Seed                      9597 non-null   float64\n",
      " 18  Diet-PlantO                    9597 non-null   float64\n",
      " 19  Diet-5Cat                      9597 non-null   object \n",
      " 20  Diet-Source                    9597 non-null   object \n",
      " 21  Diet-Certainty                 9597 non-null   object \n",
      " 22  ForStrat-watbelowsurf          9597 non-null   float64\n",
      " 23  ForStrat-wataroundsurf         9597 non-null   float64\n",
      " 24  ForStrat-ground                9597 non-null   float64\n",
      " 25  ForStrat-understory            9597 non-null   float64\n",
      " 26  ForStrat-midhigh               9597 non-null   float64\n",
      " 27  ForStrat-canopy                9597 non-null   float64\n",
      " 28  ForStrat-aerial                9597 non-null   float64\n",
      " 29  PelagicSpecialist              9597 non-null   float64\n",
      " 30  ForStrat-Source                9597 non-null   object \n",
      " 31  ForStrat-SpecLevel             9597 non-null   float64\n",
      " 32  ForStrat-EnteredBy             9597 non-null   object \n",
      " 33  Nocturnal                      9597 non-null   float64\n",
      " 34  BodyMass-Value                 9597 non-null   float64\n",
      " 35  BodyMass-Source                9597 non-null   object \n",
      " 36  BodyMass-SpecLevel             9597 non-null   float64\n",
      " 37  Unnamed: 0.1                   9597 non-null   float64\n",
      " 38  English name                   9597 non-null   object \n",
      " 39  Family                         9597 non-null   object \n",
      " 40  Global IUCN Red List Category  9597 non-null   object \n",
      " 41  endemic_breeding               9597 non-null   float64\n",
      " 42  migratory                      9597 non-null   float64\n",
      " 43  africa                         9597 non-null   float64\n",
      " 44  antarctica                     9597 non-null   float64\n",
      " 45  asia                           9597 non-null   float64\n",
      " 46  australasia                    9597 non-null   float64\n",
      " 47  caribbean                      9597 non-null   float64\n",
      " 48  central_amer                   9597 non-null   float64\n",
      " 49  central_asia                   9597 non-null   float64\n",
      " 50  europe                         9597 non-null   float64\n",
      " 51  high_seas                      9597 non-null   float64\n",
      " 52  mid_east                       9597 non-null   float64\n",
      " 53  north_amer                     9597 non-null   float64\n",
      " 54  oceania                        9597 non-null   float64\n",
      " 55  south_amer                     9597 non-null   float64\n",
      " 56  agriculture_threat             9597 non-null   float64\n",
      " 57  biological_threat              9597 non-null   float64\n",
      " 58  climate_change_threat          9597 non-null   float64\n",
      " 59  energy_mining_threat           9597 non-null   float64\n",
      " 60  geological_threat              9597 non-null   float64\n",
      " 61  human_intrusions_threat        9597 non-null   float64\n",
      " 62  natural_systems_threat         9597 non-null   float64\n",
      " 63  pollution_threat               9597 non-null   float64\n",
      " 64  res_comm_dev_threat            9597 non-null   float64\n",
      " 65  transportation_threat          9597 non-null   float64\n",
      " 66  invasive_threat                9597 non-null   float64\n",
      " 67  artificial_aquatic             9597 non-null   float64\n",
      " 68  artificial_terrestrial         9597 non-null   float64\n",
      " 69  caves_subterranean             9597 non-null   float64\n",
      " 70  desert                         9597 non-null   float64\n",
      " 71  forest                         9597 non-null   float64\n",
      " 72  grassland                      9597 non-null   float64\n",
      " 73  introduced_vegetation          9597 non-null   float64\n",
      " 74  marine_coastal_supratidal      9597 non-null   float64\n",
      " 75  marine_intertidal              9597 non-null   float64\n",
      " 76  marine_neritic                 9597 non-null   float64\n",
      " 77  marine_oceanic                 9597 non-null   float64\n",
      " 78  rocky_areas                    9597 non-null   float64\n",
      " 79  savanna                        9597 non-null   float64\n",
      " 80  shrubland                      9597 non-null   float64\n",
      " 81  wetlands_inland                9597 non-null   float64\n",
      " 82  threatened                     9597 non-null   float64\n",
      "dtypes: float64(67), object(16)\n",
      "memory usage: 6.2+ MB\n"
     ]
    }
   ],
   "source": [
    "df1.info()"
   ]
  },
  {
   "cell_type": "code",
   "execution_count": 82,
   "metadata": {
    "scrolled": true
   },
   "outputs": [
    {
     "data": {
      "text/html": [
       "<div>\n",
       "<style scoped>\n",
       "    .dataframe tbody tr th:only-of-type {\n",
       "        vertical-align: middle;\n",
       "    }\n",
       "\n",
       "    .dataframe tbody tr th {\n",
       "        vertical-align: top;\n",
       "    }\n",
       "\n",
       "    .dataframe thead th {\n",
       "        text-align: right;\n",
       "    }\n",
       "</style>\n",
       "<table border=\"1\" class=\"dataframe\">\n",
       "  <thead>\n",
       "    <tr style=\"text-align: right;\">\n",
       "      <th></th>\n",
       "      <th>SpecID</th>\n",
       "      <th>BLFamSequID</th>\n",
       "      <th>Diet-Inv</th>\n",
       "      <th>Diet-Vend</th>\n",
       "      <th>Diet-Vect</th>\n",
       "      <th>Diet-Vfish</th>\n",
       "      <th>Diet-Vunk</th>\n",
       "      <th>Diet-Scav</th>\n",
       "      <th>Diet-Fruit</th>\n",
       "      <th>Diet-Nect</th>\n",
       "      <th>...</th>\n",
       "      <th>grassland</th>\n",
       "      <th>introduced_vegetation</th>\n",
       "      <th>marine_coastal_supratidal</th>\n",
       "      <th>marine_intertidal</th>\n",
       "      <th>marine_neritic</th>\n",
       "      <th>marine_oceanic</th>\n",
       "      <th>rocky_areas</th>\n",
       "      <th>savanna</th>\n",
       "      <th>shrubland</th>\n",
       "      <th>wetlands_inland</th>\n",
       "    </tr>\n",
       "  </thead>\n",
       "  <tbody>\n",
       "    <tr>\n",
       "      <th>1</th>\n",
       "      <td>37.0</td>\n",
       "      <td>3.0</td>\n",
       "      <td>20.0</td>\n",
       "      <td>10.0</td>\n",
       "      <td>10.0</td>\n",
       "      <td>0.0</td>\n",
       "      <td>0.0</td>\n",
       "      <td>0.0</td>\n",
       "      <td>20.0</td>\n",
       "      <td>0.0</td>\n",
       "      <td>...</td>\n",
       "      <td>1.0</td>\n",
       "      <td>0.0</td>\n",
       "      <td>0.0</td>\n",
       "      <td>0.0</td>\n",
       "      <td>0.0</td>\n",
       "      <td>0.0</td>\n",
       "      <td>0.0</td>\n",
       "      <td>1.0</td>\n",
       "      <td>1.0</td>\n",
       "      <td>0.0</td>\n",
       "    </tr>\n",
       "    <tr>\n",
       "      <th>2</th>\n",
       "      <td>38.0</td>\n",
       "      <td>3.0</td>\n",
       "      <td>20.0</td>\n",
       "      <td>0.0</td>\n",
       "      <td>0.0</td>\n",
       "      <td>0.0</td>\n",
       "      <td>10.0</td>\n",
       "      <td>0.0</td>\n",
       "      <td>0.0</td>\n",
       "      <td>0.0</td>\n",
       "      <td>...</td>\n",
       "      <td>0.0</td>\n",
       "      <td>0.0</td>\n",
       "      <td>0.0</td>\n",
       "      <td>0.0</td>\n",
       "      <td>0.0</td>\n",
       "      <td>0.0</td>\n",
       "      <td>0.0</td>\n",
       "      <td>0.0</td>\n",
       "      <td>0.0</td>\n",
       "      <td>0.0</td>\n",
       "    </tr>\n",
       "    <tr>\n",
       "      <th>3</th>\n",
       "      <td>45.0</td>\n",
       "      <td>4.0</td>\n",
       "      <td>10.0</td>\n",
       "      <td>0.0</td>\n",
       "      <td>0.0</td>\n",
       "      <td>0.0</td>\n",
       "      <td>10.0</td>\n",
       "      <td>0.0</td>\n",
       "      <td>80.0</td>\n",
       "      <td>0.0</td>\n",
       "      <td>...</td>\n",
       "      <td>0.0</td>\n",
       "      <td>0.0</td>\n",
       "      <td>0.0</td>\n",
       "      <td>0.0</td>\n",
       "      <td>0.0</td>\n",
       "      <td>0.0</td>\n",
       "      <td>0.0</td>\n",
       "      <td>0.0</td>\n",
       "      <td>0.0</td>\n",
       "      <td>0.0</td>\n",
       "    </tr>\n",
       "    <tr>\n",
       "      <th>4</th>\n",
       "      <td>46.0</td>\n",
       "      <td>4.0</td>\n",
       "      <td>10.0</td>\n",
       "      <td>0.0</td>\n",
       "      <td>0.0</td>\n",
       "      <td>0.0</td>\n",
       "      <td>10.0</td>\n",
       "      <td>0.0</td>\n",
       "      <td>80.0</td>\n",
       "      <td>0.0</td>\n",
       "      <td>...</td>\n",
       "      <td>1.0</td>\n",
       "      <td>0.0</td>\n",
       "      <td>0.0</td>\n",
       "      <td>0.0</td>\n",
       "      <td>0.0</td>\n",
       "      <td>0.0</td>\n",
       "      <td>0.0</td>\n",
       "      <td>1.0</td>\n",
       "      <td>1.0</td>\n",
       "      <td>0.0</td>\n",
       "    </tr>\n",
       "    <tr>\n",
       "      <th>5</th>\n",
       "      <td>47.0</td>\n",
       "      <td>4.0</td>\n",
       "      <td>20.0</td>\n",
       "      <td>0.0</td>\n",
       "      <td>0.0</td>\n",
       "      <td>0.0</td>\n",
       "      <td>10.0</td>\n",
       "      <td>0.0</td>\n",
       "      <td>60.0</td>\n",
       "      <td>0.0</td>\n",
       "      <td>...</td>\n",
       "      <td>1.0</td>\n",
       "      <td>0.0</td>\n",
       "      <td>0.0</td>\n",
       "      <td>0.0</td>\n",
       "      <td>0.0</td>\n",
       "      <td>0.0</td>\n",
       "      <td>0.0</td>\n",
       "      <td>1.0</td>\n",
       "      <td>1.0</td>\n",
       "      <td>0.0</td>\n",
       "    </tr>\n",
       "    <tr>\n",
       "      <th>...</th>\n",
       "      <td>...</td>\n",
       "      <td>...</td>\n",
       "      <td>...</td>\n",
       "      <td>...</td>\n",
       "      <td>...</td>\n",
       "      <td>...</td>\n",
       "      <td>...</td>\n",
       "      <td>...</td>\n",
       "      <td>...</td>\n",
       "      <td>...</td>\n",
       "      <td>...</td>\n",
       "      <td>...</td>\n",
       "      <td>...</td>\n",
       "      <td>...</td>\n",
       "      <td>...</td>\n",
       "      <td>...</td>\n",
       "      <td>...</td>\n",
       "      <td>...</td>\n",
       "      <td>...</td>\n",
       "      <td>...</td>\n",
       "      <td>...</td>\n",
       "    </tr>\n",
       "    <tr>\n",
       "      <th>9953</th>\n",
       "      <td>20067.0</td>\n",
       "      <td>163.0</td>\n",
       "      <td>90.0</td>\n",
       "      <td>0.0</td>\n",
       "      <td>0.0</td>\n",
       "      <td>0.0</td>\n",
       "      <td>0.0</td>\n",
       "      <td>0.0</td>\n",
       "      <td>10.0</td>\n",
       "      <td>0.0</td>\n",
       "      <td>...</td>\n",
       "      <td>0.0</td>\n",
       "      <td>0.0</td>\n",
       "      <td>0.0</td>\n",
       "      <td>0.0</td>\n",
       "      <td>0.0</td>\n",
       "      <td>0.0</td>\n",
       "      <td>0.0</td>\n",
       "      <td>1.0</td>\n",
       "      <td>1.0</td>\n",
       "      <td>0.0</td>\n",
       "    </tr>\n",
       "    <tr>\n",
       "      <th>9973</th>\n",
       "      <td>20087.0</td>\n",
       "      <td>183.0</td>\n",
       "      <td>30.0</td>\n",
       "      <td>0.0</td>\n",
       "      <td>0.0</td>\n",
       "      <td>0.0</td>\n",
       "      <td>0.0</td>\n",
       "      <td>0.0</td>\n",
       "      <td>0.0</td>\n",
       "      <td>0.0</td>\n",
       "      <td>...</td>\n",
       "      <td>0.0</td>\n",
       "      <td>0.0</td>\n",
       "      <td>0.0</td>\n",
       "      <td>0.0</td>\n",
       "      <td>0.0</td>\n",
       "      <td>0.0</td>\n",
       "      <td>0.0</td>\n",
       "      <td>0.0</td>\n",
       "      <td>0.0</td>\n",
       "      <td>0.0</td>\n",
       "    </tr>\n",
       "    <tr>\n",
       "      <th>9977</th>\n",
       "      <td>20091.0</td>\n",
       "      <td>188.0</td>\n",
       "      <td>20.0</td>\n",
       "      <td>0.0</td>\n",
       "      <td>0.0</td>\n",
       "      <td>0.0</td>\n",
       "      <td>0.0</td>\n",
       "      <td>0.0</td>\n",
       "      <td>0.0</td>\n",
       "      <td>0.0</td>\n",
       "      <td>...</td>\n",
       "      <td>0.0</td>\n",
       "      <td>0.0</td>\n",
       "      <td>0.0</td>\n",
       "      <td>0.0</td>\n",
       "      <td>0.0</td>\n",
       "      <td>0.0</td>\n",
       "      <td>0.0</td>\n",
       "      <td>0.0</td>\n",
       "      <td>0.0</td>\n",
       "      <td>0.0</td>\n",
       "    </tr>\n",
       "    <tr>\n",
       "      <th>9981</th>\n",
       "      <td>20095.0</td>\n",
       "      <td>192.0</td>\n",
       "      <td>40.0</td>\n",
       "      <td>0.0</td>\n",
       "      <td>0.0</td>\n",
       "      <td>0.0</td>\n",
       "      <td>0.0</td>\n",
       "      <td>0.0</td>\n",
       "      <td>20.0</td>\n",
       "      <td>0.0</td>\n",
       "      <td>...</td>\n",
       "      <td>0.0</td>\n",
       "      <td>0.0</td>\n",
       "      <td>0.0</td>\n",
       "      <td>0.0</td>\n",
       "      <td>0.0</td>\n",
       "      <td>0.0</td>\n",
       "      <td>0.0</td>\n",
       "      <td>0.0</td>\n",
       "      <td>0.0</td>\n",
       "      <td>0.0</td>\n",
       "    </tr>\n",
       "    <tr>\n",
       "      <th>9985</th>\n",
       "      <td>20100.0</td>\n",
       "      <td>156.0</td>\n",
       "      <td>100.0</td>\n",
       "      <td>0.0</td>\n",
       "      <td>0.0</td>\n",
       "      <td>0.0</td>\n",
       "      <td>0.0</td>\n",
       "      <td>0.0</td>\n",
       "      <td>0.0</td>\n",
       "      <td>0.0</td>\n",
       "      <td>...</td>\n",
       "      <td>0.0</td>\n",
       "      <td>0.0</td>\n",
       "      <td>0.0</td>\n",
       "      <td>0.0</td>\n",
       "      <td>0.0</td>\n",
       "      <td>0.0</td>\n",
       "      <td>0.0</td>\n",
       "      <td>0.0</td>\n",
       "      <td>1.0</td>\n",
       "      <td>0.0</td>\n",
       "    </tr>\n",
       "  </tbody>\n",
       "</table>\n",
       "<p>9597 rows × 66 columns</p>\n",
       "</div>"
      ],
      "text/plain": [
       "       SpecID  BLFamSequID  Diet-Inv  Diet-Vend  Diet-Vect  Diet-Vfish  \\\n",
       "1        37.0          3.0      20.0       10.0       10.0         0.0   \n",
       "2        38.0          3.0      20.0        0.0        0.0         0.0   \n",
       "3        45.0          4.0      10.0        0.0        0.0         0.0   \n",
       "4        46.0          4.0      10.0        0.0        0.0         0.0   \n",
       "5        47.0          4.0      20.0        0.0        0.0         0.0   \n",
       "...       ...          ...       ...        ...        ...         ...   \n",
       "9953  20067.0        163.0      90.0        0.0        0.0         0.0   \n",
       "9973  20087.0        183.0      30.0        0.0        0.0         0.0   \n",
       "9977  20091.0        188.0      20.0        0.0        0.0         0.0   \n",
       "9981  20095.0        192.0      40.0        0.0        0.0         0.0   \n",
       "9985  20100.0        156.0     100.0        0.0        0.0         0.0   \n",
       "\n",
       "      Diet-Vunk  Diet-Scav  Diet-Fruit  Diet-Nect  ...  grassland  \\\n",
       "1           0.0        0.0        20.0        0.0  ...        1.0   \n",
       "2          10.0        0.0         0.0        0.0  ...        0.0   \n",
       "3          10.0        0.0        80.0        0.0  ...        0.0   \n",
       "4          10.0        0.0        80.0        0.0  ...        1.0   \n",
       "5          10.0        0.0        60.0        0.0  ...        1.0   \n",
       "...         ...        ...         ...        ...  ...        ...   \n",
       "9953        0.0        0.0        10.0        0.0  ...        0.0   \n",
       "9973        0.0        0.0         0.0        0.0  ...        0.0   \n",
       "9977        0.0        0.0         0.0        0.0  ...        0.0   \n",
       "9981        0.0        0.0        20.0        0.0  ...        0.0   \n",
       "9985        0.0        0.0         0.0        0.0  ...        0.0   \n",
       "\n",
       "      introduced_vegetation  marine_coastal_supratidal  marine_intertidal  \\\n",
       "1                       0.0                        0.0                0.0   \n",
       "2                       0.0                        0.0                0.0   \n",
       "3                       0.0                        0.0                0.0   \n",
       "4                       0.0                        0.0                0.0   \n",
       "5                       0.0                        0.0                0.0   \n",
       "...                     ...                        ...                ...   \n",
       "9953                    0.0                        0.0                0.0   \n",
       "9973                    0.0                        0.0                0.0   \n",
       "9977                    0.0                        0.0                0.0   \n",
       "9981                    0.0                        0.0                0.0   \n",
       "9985                    0.0                        0.0                0.0   \n",
       "\n",
       "      marine_neritic  marine_oceanic  rocky_areas  savanna  shrubland  \\\n",
       "1                0.0             0.0          0.0      1.0        1.0   \n",
       "2                0.0             0.0          0.0      0.0        0.0   \n",
       "3                0.0             0.0          0.0      0.0        0.0   \n",
       "4                0.0             0.0          0.0      1.0        1.0   \n",
       "5                0.0             0.0          0.0      1.0        1.0   \n",
       "...              ...             ...          ...      ...        ...   \n",
       "9953             0.0             0.0          0.0      1.0        1.0   \n",
       "9973             0.0             0.0          0.0      0.0        0.0   \n",
       "9977             0.0             0.0          0.0      0.0        0.0   \n",
       "9981             0.0             0.0          0.0      0.0        0.0   \n",
       "9985             0.0             0.0          0.0      0.0        1.0   \n",
       "\n",
       "      wetlands_inland  \n",
       "1                 0.0  \n",
       "2                 0.0  \n",
       "3                 0.0  \n",
       "4                 0.0  \n",
       "5                 0.0  \n",
       "...               ...  \n",
       "9953              0.0  \n",
       "9973              0.0  \n",
       "9977              0.0  \n",
       "9981              0.0  \n",
       "9985              0.0  \n",
       "\n",
       "[9597 rows x 66 columns]"
      ]
     },
     "execution_count": 82,
     "metadata": {},
     "output_type": "execute_result"
    }
   ],
   "source": [
    "float_cols = []\n",
    "for col in df1:\n",
    "    if df1[col].dtypes=='float64':\n",
    "        float_cols.append(col)\n",
    "floats = df1[float_cols].drop(columns=['threatened'])\n",
    "floats"
   ]
  },
  {
   "cell_type": "code",
   "execution_count": 83,
   "metadata": {},
   "outputs": [
    {
     "data": {
      "text/plain": [
       "1       0.0\n",
       "2       0.0\n",
       "3       0.0\n",
       "4       0.0\n",
       "5       0.0\n",
       "       ... \n",
       "9953    0.0\n",
       "9973    1.0\n",
       "9977    0.0\n",
       "9981    1.0\n",
       "9985    1.0\n",
       "Name: threatened, Length: 9597, dtype: float64"
      ]
     },
     "execution_count": 83,
     "metadata": {},
     "output_type": "execute_result"
    }
   ],
   "source": [
    "df1['threatened']"
   ]
  },
  {
   "cell_type": "code",
   "execution_count": 84,
   "metadata": {},
   "outputs": [
    {
     "data": {
      "text/plain": [
       "16"
      ]
     },
     "execution_count": 84,
     "metadata": {},
     "output_type": "execute_result"
    }
   ],
   "source": [
    "obj_cols = []\n",
    "for col in df1:\n",
    "    if df1[col].dtypes=='object':\n",
    "        obj_cols.append(col)\n",
    "len(obj_cols)"
   ]
  },
  {
   "cell_type": "code",
   "execution_count": 85,
   "metadata": {},
   "outputs": [],
   "source": [
    "X_train_big, X_test_big, y_train_big, y_test_big = train_test_split(floats, df1['threatened'], test_size=.25, random_state=42)"
   ]
  },
  {
   "cell_type": "code",
   "execution_count": 86,
   "metadata": {},
   "outputs": [
    {
     "data": {
      "text/plain": [
       "LogisticRegression(max_iter=10000)"
      ]
     },
     "execution_count": 86,
     "metadata": {},
     "output_type": "execute_result"
    }
   ],
   "source": [
    "# Big model for some reason\n",
    "model_big = LogisticRegression(max_iter=10000)\n",
    "model_big.fit(X_train_big, y_train_big)"
   ]
  },
  {
   "cell_type": "code",
   "execution_count": 87,
   "metadata": {},
   "outputs": [
    {
     "data": {
      "text/plain": [
       "0.9082696316886727"
      ]
     },
     "execution_count": 87,
     "metadata": {},
     "output_type": "execute_result"
    }
   ],
   "source": [
    "cv_scores = cross_val_score(model_big, X_train_big, y_train_big, cv=5)\n",
    "np.median(cv_scores)"
   ]
  },
  {
   "cell_type": "code",
   "execution_count": 88,
   "metadata": {},
   "outputs": [
    {
     "name": "stdout",
     "output_type": "stream",
     "text": [
      "Accuracy Score:  0.8983333333333333\n",
      "Precision Score: 0.7\n",
      "Recall Score:    0.5229885057471264\n",
      "F1 Score:        0.5986842105263157\n"
     ]
    }
   ],
   "source": [
    "# Big Model LogReg\n",
    "big_preds = model_big.predict(X_test_big)\n",
    "print(\"Accuracy Score: \",accuracy_score(y_test_big, big_preds))\n",
    "print(\"Precision Score:\",precision_score(y_test_big, big_preds))\n",
    "print(\"Recall Score:   \",recall_score(y_test_big, big_preds))\n",
    "print(\"F1 Score:       \",f1_score(y_test_big, big_preds))"
   ]
  },
  {
   "cell_type": "code",
   "execution_count": 89,
   "metadata": {},
   "outputs": [
    {
     "name": "stdout",
     "output_type": "stream",
     "text": [
      "Accuracy Score:  0.80125\n",
      "Precision Score: 0.2912621359223301\n",
      "Recall Score:    0.25862068965517243\n",
      "F1 Score:        0.273972602739726\n"
     ]
    }
   ],
   "source": [
    "# Big Model KNN\n",
    "clf_big = KNeighborsClassifier(n_neighbors=1)\n",
    "clf_big.fit(X_train_big, y_train_big)\n",
    "big_knn_preds = clf_big.predict(X_test_big)\n",
    "print(\"Accuracy Score: \",accuracy_score(y_test_big, big_knn_preds))\n",
    "print(\"Precision Score:\",precision_score(y_test_big, big_knn_preds))\n",
    "print(\"Recall Score:   \",recall_score(y_test_big, big_knn_preds))\n",
    "print(\"F1 Score:       \",f1_score(y_test_big, big_knn_preds))"
   ]
  },
  {
   "cell_type": "code",
   "execution_count": 90,
   "metadata": {},
   "outputs": [
    {
     "name": "stdout",
     "output_type": "stream",
     "text": [
      "Accuracy Score:  0.90125\n",
      "Precision Score: 0.6581196581196581\n",
      "Recall Score:    0.6637931034482759\n",
      "F1 Score:        0.6609442060085837\n"
     ]
    }
   ],
   "source": [
    "# Big Model DT\n",
    "dt_big = DecisionTreeClassifier(criterion='entropy', max_depth=7)\n",
    "dt_big.fit(X_train_big, y_train_big)\n",
    "big_dt_preds = dt_big.predict(X_test_big)\n",
    "print(\"Accuracy Score: \",accuracy_score(y_test_big, big_dt_preds))\n",
    "print(\"Precision Score:\",precision_score(y_test_big, big_dt_preds))\n",
    "print(\"Recall Score:   \",recall_score(y_test_big, big_dt_preds))\n",
    "print(\"F1 Score:       \",f1_score(y_test_big, big_dt_preds))"
   ]
  },
  {
   "cell_type": "code",
   "execution_count": 93,
   "metadata": {},
   "outputs": [
    {
     "name": "stdout",
     "output_type": "stream",
     "text": [
      "<class 'pandas.core.frame.DataFrame'>\n",
      "Int64Index: 9597 entries, 1 to 9985\n",
      "Data columns (total 66 columns):\n",
      " #   Column                     Non-Null Count  Dtype  \n",
      "---  ------                     --------------  -----  \n",
      " 0   SpecID                     9597 non-null   float64\n",
      " 1   BLFamSequID                9597 non-null   float64\n",
      " 2   Diet-Inv                   9597 non-null   float64\n",
      " 3   Diet-Vend                  9597 non-null   float64\n",
      " 4   Diet-Vect                  9597 non-null   float64\n",
      " 5   Diet-Vfish                 9597 non-null   float64\n",
      " 6   Diet-Vunk                  9597 non-null   float64\n",
      " 7   Diet-Scav                  9597 non-null   float64\n",
      " 8   Diet-Fruit                 9597 non-null   float64\n",
      " 9   Diet-Nect                  9597 non-null   float64\n",
      " 10  Diet-Seed                  9597 non-null   float64\n",
      " 11  Diet-PlantO                9597 non-null   float64\n",
      " 12  ForStrat-watbelowsurf      9597 non-null   float64\n",
      " 13  ForStrat-wataroundsurf     9597 non-null   float64\n",
      " 14  ForStrat-ground            9597 non-null   float64\n",
      " 15  ForStrat-understory        9597 non-null   float64\n",
      " 16  ForStrat-midhigh           9597 non-null   float64\n",
      " 17  ForStrat-canopy            9597 non-null   float64\n",
      " 18  ForStrat-aerial            9597 non-null   float64\n",
      " 19  PelagicSpecialist          9597 non-null   float64\n",
      " 20  ForStrat-SpecLevel         9597 non-null   float64\n",
      " 21  Nocturnal                  9597 non-null   float64\n",
      " 22  BodyMass-Value             9597 non-null   float64\n",
      " 23  BodyMass-SpecLevel         9597 non-null   float64\n",
      " 24  Unnamed: 0.1               9597 non-null   float64\n",
      " 25  endemic_breeding           9597 non-null   float64\n",
      " 26  migratory                  9597 non-null   float64\n",
      " 27  africa                     9597 non-null   float64\n",
      " 28  antarctica                 9597 non-null   float64\n",
      " 29  asia                       9597 non-null   float64\n",
      " 30  australasia                9597 non-null   float64\n",
      " 31  caribbean                  9597 non-null   float64\n",
      " 32  central_amer               9597 non-null   float64\n",
      " 33  central_asia               9597 non-null   float64\n",
      " 34  europe                     9597 non-null   float64\n",
      " 35  high_seas                  9597 non-null   float64\n",
      " 36  mid_east                   9597 non-null   float64\n",
      " 37  north_amer                 9597 non-null   float64\n",
      " 38  oceania                    9597 non-null   float64\n",
      " 39  south_amer                 9597 non-null   float64\n",
      " 40  agriculture_threat         9597 non-null   float64\n",
      " 41  biological_threat          9597 non-null   float64\n",
      " 42  climate_change_threat      9597 non-null   float64\n",
      " 43  energy_mining_threat       9597 non-null   float64\n",
      " 44  geological_threat          9597 non-null   float64\n",
      " 45  human_intrusions_threat    9597 non-null   float64\n",
      " 46  natural_systems_threat     9597 non-null   float64\n",
      " 47  pollution_threat           9597 non-null   float64\n",
      " 48  res_comm_dev_threat        9597 non-null   float64\n",
      " 49  transportation_threat      9597 non-null   float64\n",
      " 50  invasive_threat            9597 non-null   float64\n",
      " 51  artificial_aquatic         9597 non-null   float64\n",
      " 52  artificial_terrestrial     9597 non-null   float64\n",
      " 53  caves_subterranean         9597 non-null   float64\n",
      " 54  desert                     9597 non-null   float64\n",
      " 55  forest                     9597 non-null   float64\n",
      " 56  grassland                  9597 non-null   float64\n",
      " 57  introduced_vegetation      9597 non-null   float64\n",
      " 58  marine_coastal_supratidal  9597 non-null   float64\n",
      " 59  marine_intertidal          9597 non-null   float64\n",
      " 60  marine_neritic             9597 non-null   float64\n",
      " 61  marine_oceanic             9597 non-null   float64\n",
      " 62  rocky_areas                9597 non-null   float64\n",
      " 63  savanna                    9597 non-null   float64\n",
      " 64  shrubland                  9597 non-null   float64\n",
      " 65  wetlands_inland            9597 non-null   float64\n",
      "dtypes: float64(66)\n",
      "memory usage: 4.9 MB\n"
     ]
    }
   ],
   "source": [
    "floats.info()"
   ]
  },
  {
   "cell_type": "code",
   "execution_count": 101,
   "metadata": {},
   "outputs": [
    {
     "data": {
      "text/plain": [
       "7482.0     2\n",
       "10741.0    2\n",
       "2819.0     2\n",
       "2781.0     2\n",
       "2682.0     2\n",
       "          ..\n",
       "2897.0     1\n",
       "567.0      1\n",
       "5812.0     1\n",
       "581.0      1\n",
       "2.0        1\n",
       "Name: Unnamed: 0.1, Length: 9575, dtype: int64"
      ]
     },
     "execution_count": 101,
     "metadata": {},
     "output_type": "execute_result"
    }
   ],
   "source": [
    "# 'SpecID', 'BLFamSequID', 'Unnamed: 0.1'\n",
    "floats[].value_counts()"
   ]
  },
  {
   "cell_type": "code",
   "execution_count": null,
   "metadata": {},
   "outputs": [],
   "source": []
  }
 ],
 "metadata": {
  "kernelspec": {
   "display_name": "Python (learn-env)",
   "language": "python",
   "name": "learn-env"
  },
  "language_info": {
   "codemirror_mode": {
    "name": "ipython",
    "version": 3
   },
   "file_extension": ".py",
   "mimetype": "text/x-python",
   "name": "python",
   "nbconvert_exporter": "python",
   "pygments_lexer": "ipython3",
   "version": "3.8.5"
  }
 },
 "nbformat": 4,
 "nbformat_minor": 4
}
